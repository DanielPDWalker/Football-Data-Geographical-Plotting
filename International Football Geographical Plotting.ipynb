{
 "cells": [
  {
   "cell_type": "markdown",
   "metadata": {},
   "source": [
    "# International Football Data Geographical Plotting"
   ]
  },
  {
   "cell_type": "code",
   "execution_count": 79,
   "metadata": {},
   "outputs": [],
   "source": [
    "import pandas as pd\n",
    "import numpy as np\n",
    "import matplotlib.pyplot as plt\n",
    "# 'Express' plotly\n",
    "import plotly.express as px\n",
    "# Full plotly\n",
    "import plotly.graph_objects as go\n",
    "\n",
    "%matplotlib inline\n",
    "\n",
    "import warnings\n",
    "warnings.filterwarnings(\"ignore\")"
   ]
  },
  {
   "cell_type": "code",
   "execution_count": 29,
   "metadata": {},
   "outputs": [
    {
     "data": {
      "text/html": [
       "<div>\n",
       "<style scoped>\n",
       "    .dataframe tbody tr th:only-of-type {\n",
       "        vertical-align: middle;\n",
       "    }\n",
       "\n",
       "    .dataframe tbody tr th {\n",
       "        vertical-align: top;\n",
       "    }\n",
       "\n",
       "    .dataframe thead th {\n",
       "        text-align: right;\n",
       "    }\n",
       "</style>\n",
       "<table border=\"1\" class=\"dataframe\">\n",
       "  <thead>\n",
       "    <tr style=\"text-align: right;\">\n",
       "      <th></th>\n",
       "      <th>date</th>\n",
       "      <th>home_team</th>\n",
       "      <th>away_team</th>\n",
       "      <th>home_score</th>\n",
       "      <th>away_score</th>\n",
       "      <th>tournament</th>\n",
       "      <th>city</th>\n",
       "      <th>country</th>\n",
       "      <th>neutral</th>\n",
       "    </tr>\n",
       "  </thead>\n",
       "  <tbody>\n",
       "    <tr>\n",
       "      <th>40940</th>\n",
       "      <td>2019-09-10</td>\n",
       "      <td>France</td>\n",
       "      <td>Andorra</td>\n",
       "      <td>3</td>\n",
       "      <td>0</td>\n",
       "      <td>UEFA Euro qualification</td>\n",
       "      <td>Paris</td>\n",
       "      <td>France</td>\n",
       "      <td>False</td>\n",
       "    </tr>\n",
       "    <tr>\n",
       "      <th>40941</th>\n",
       "      <td>2019-09-10</td>\n",
       "      <td>Moldova</td>\n",
       "      <td>Turkey</td>\n",
       "      <td>0</td>\n",
       "      <td>4</td>\n",
       "      <td>UEFA Euro qualification</td>\n",
       "      <td>Chișinău</td>\n",
       "      <td>Moldova</td>\n",
       "      <td>False</td>\n",
       "    </tr>\n",
       "    <tr>\n",
       "      <th>40942</th>\n",
       "      <td>2019-09-18</td>\n",
       "      <td>DR Congo</td>\n",
       "      <td>Rwanda</td>\n",
       "      <td>2</td>\n",
       "      <td>3</td>\n",
       "      <td>Friendly</td>\n",
       "      <td>Kinshasa</td>\n",
       "      <td>DR Congo</td>\n",
       "      <td>True</td>\n",
       "    </tr>\n",
       "    <tr>\n",
       "      <th>40943</th>\n",
       "      <td>2019-09-29</td>\n",
       "      <td>Bangladesh</td>\n",
       "      <td>Bhutan</td>\n",
       "      <td>4</td>\n",
       "      <td>1</td>\n",
       "      <td>Friendly</td>\n",
       "      <td>Dhaka</td>\n",
       "      <td>Bangladesh</td>\n",
       "      <td>False</td>\n",
       "    </tr>\n",
       "    <tr>\n",
       "      <th>40944</th>\n",
       "      <td>2019-09-30</td>\n",
       "      <td>Botswana</td>\n",
       "      <td>Liberia</td>\n",
       "      <td>0</td>\n",
       "      <td>0</td>\n",
       "      <td>Friendly</td>\n",
       "      <td>Gaborone</td>\n",
       "      <td>Botswana</td>\n",
       "      <td>False</td>\n",
       "    </tr>\n",
       "  </tbody>\n",
       "</table>\n",
       "</div>"
      ],
      "text/plain": [
       "             date   home_team away_team  home_score  away_score  \\\n",
       "40940  2019-09-10      France   Andorra           3           0   \n",
       "40941  2019-09-10     Moldova    Turkey           0           4   \n",
       "40942  2019-09-18    DR Congo    Rwanda           2           3   \n",
       "40943  2019-09-29  Bangladesh    Bhutan           4           1   \n",
       "40944  2019-09-30    Botswana   Liberia           0           0   \n",
       "\n",
       "                    tournament      city     country  neutral  \n",
       "40940  UEFA Euro qualification     Paris      France    False  \n",
       "40941  UEFA Euro qualification  Chișinău     Moldova    False  \n",
       "40942                 Friendly  Kinshasa    DR Congo     True  \n",
       "40943                 Friendly     Dhaka  Bangladesh    False  \n",
       "40944                 Friendly  Gaborone    Botswana    False  "
      ]
     },
     "execution_count": 29,
     "metadata": {},
     "output_type": "execute_result"
    }
   ],
   "source": [
    "df = pd.read_csv('./data/results.csv', error_bad_lines=False)\n",
    "df.tail()"
   ]
  },
  {
   "cell_type": "code",
   "execution_count": 76,
   "metadata": {},
   "outputs": [
    {
     "data": {
      "text/plain": [
       "date          object\n",
       "home_team     object\n",
       "away_team     object\n",
       "home_score     int64\n",
       "away_score     int64\n",
       "tournament    object\n",
       "city          object\n",
       "country       object\n",
       "neutral         bool\n",
       "dtype: object"
      ]
     },
     "execution_count": 76,
     "metadata": {},
     "output_type": "execute_result"
    }
   ],
   "source": [
    "df.dtypes"
   ]
  },
  {
   "cell_type": "code",
   "execution_count": 95,
   "metadata": {},
   "outputs": [],
   "source": [
    "# Creates a new column that contains the winner, (or outcome if draw), of the match.\n",
    "df.loc[df[\"home_score\"]>df[\"away_score\"], \"winner\"] = df[\"home_team\"]\n",
    "df.loc[df[\"away_score\"]>df[\"home_score\"], \"winner\"] = df[\"away_team\"]\n",
    "df.loc[df[\"away_score\"]==df[\"home_score\"], \"winner\"] = 'draw'"
   ]
  },
  {
   "cell_type": "code",
   "execution_count": 94,
   "metadata": {},
   "outputs": [
    {
     "data": {
      "text/html": [
       "<div>\n",
       "<style scoped>\n",
       "    .dataframe tbody tr th:only-of-type {\n",
       "        vertical-align: middle;\n",
       "    }\n",
       "\n",
       "    .dataframe tbody tr th {\n",
       "        vertical-align: top;\n",
       "    }\n",
       "\n",
       "    .dataframe thead th {\n",
       "        text-align: right;\n",
       "    }\n",
       "</style>\n",
       "<table border=\"1\" class=\"dataframe\">\n",
       "  <thead>\n",
       "    <tr style=\"text-align: right;\">\n",
       "      <th></th>\n",
       "      <th>date</th>\n",
       "      <th>home_team</th>\n",
       "      <th>away_team</th>\n",
       "      <th>home_score</th>\n",
       "      <th>away_score</th>\n",
       "      <th>tournament</th>\n",
       "      <th>city</th>\n",
       "      <th>country</th>\n",
       "      <th>neutral</th>\n",
       "      <th>winner</th>\n",
       "    </tr>\n",
       "  </thead>\n",
       "  <tbody>\n",
       "    <tr>\n",
       "      <th>0</th>\n",
       "      <td>1872-11-30</td>\n",
       "      <td>Scotland</td>\n",
       "      <td>England</td>\n",
       "      <td>0</td>\n",
       "      <td>0</td>\n",
       "      <td>Friendly</td>\n",
       "      <td>Glasgow</td>\n",
       "      <td>Scotland</td>\n",
       "      <td>False</td>\n",
       "      <td>draw</td>\n",
       "    </tr>\n",
       "    <tr>\n",
       "      <th>1</th>\n",
       "      <td>1873-03-08</td>\n",
       "      <td>England</td>\n",
       "      <td>Scotland</td>\n",
       "      <td>4</td>\n",
       "      <td>2</td>\n",
       "      <td>Friendly</td>\n",
       "      <td>London</td>\n",
       "      <td>England</td>\n",
       "      <td>False</td>\n",
       "      <td>England</td>\n",
       "    </tr>\n",
       "    <tr>\n",
       "      <th>2</th>\n",
       "      <td>1874-03-07</td>\n",
       "      <td>Scotland</td>\n",
       "      <td>England</td>\n",
       "      <td>2</td>\n",
       "      <td>1</td>\n",
       "      <td>Friendly</td>\n",
       "      <td>Glasgow</td>\n",
       "      <td>Scotland</td>\n",
       "      <td>False</td>\n",
       "      <td>Scotland</td>\n",
       "    </tr>\n",
       "    <tr>\n",
       "      <th>3</th>\n",
       "      <td>1875-03-06</td>\n",
       "      <td>England</td>\n",
       "      <td>Scotland</td>\n",
       "      <td>2</td>\n",
       "      <td>2</td>\n",
       "      <td>Friendly</td>\n",
       "      <td>London</td>\n",
       "      <td>England</td>\n",
       "      <td>False</td>\n",
       "      <td>draw</td>\n",
       "    </tr>\n",
       "    <tr>\n",
       "      <th>4</th>\n",
       "      <td>1876-03-04</td>\n",
       "      <td>Scotland</td>\n",
       "      <td>England</td>\n",
       "      <td>3</td>\n",
       "      <td>0</td>\n",
       "      <td>Friendly</td>\n",
       "      <td>Glasgow</td>\n",
       "      <td>Scotland</td>\n",
       "      <td>False</td>\n",
       "      <td>Scotland</td>\n",
       "    </tr>\n",
       "  </tbody>\n",
       "</table>\n",
       "</div>"
      ],
      "text/plain": [
       "         date home_team away_team  home_score  away_score tournament     city  \\\n",
       "0  1872-11-30  Scotland   England           0           0   Friendly  Glasgow   \n",
       "1  1873-03-08   England  Scotland           4           2   Friendly   London   \n",
       "2  1874-03-07  Scotland   England           2           1   Friendly  Glasgow   \n",
       "3  1875-03-06   England  Scotland           2           2   Friendly   London   \n",
       "4  1876-03-04  Scotland   England           3           0   Friendly  Glasgow   \n",
       "\n",
       "    country  neutral    winner  \n",
       "0  Scotland    False      draw  \n",
       "1   England    False   England  \n",
       "2  Scotland    False  Scotland  \n",
       "3   England    False      draw  \n",
       "4  Scotland    False  Scotland  "
      ]
     },
     "execution_count": 94,
     "metadata": {},
     "output_type": "execute_result"
    }
   ],
   "source": [
    "df.head()"
   ]
  },
  {
   "cell_type": "code",
   "execution_count": 47,
   "metadata": {},
   "outputs": [
    {
     "data": {
      "text/html": [
       "<div>\n",
       "<style scoped>\n",
       "    .dataframe tbody tr th:only-of-type {\n",
       "        vertical-align: middle;\n",
       "    }\n",
       "\n",
       "    .dataframe tbody tr th {\n",
       "        vertical-align: top;\n",
       "    }\n",
       "\n",
       "    .dataframe thead th {\n",
       "        text-align: right;\n",
       "    }\n",
       "</style>\n",
       "<table border=\"1\" class=\"dataframe\">\n",
       "  <thead>\n",
       "    <tr style=\"text-align: right;\">\n",
       "      <th></th>\n",
       "      <th>country</th>\n",
       "      <th>num_games</th>\n",
       "    </tr>\n",
       "  </thead>\n",
       "  <tbody>\n",
       "    <tr>\n",
       "      <th>0</th>\n",
       "      <td>United States</td>\n",
       "      <td>1151</td>\n",
       "    </tr>\n",
       "    <tr>\n",
       "      <th>1</th>\n",
       "      <td>France</td>\n",
       "      <td>803</td>\n",
       "    </tr>\n",
       "    <tr>\n",
       "      <th>2</th>\n",
       "      <td>England</td>\n",
       "      <td>689</td>\n",
       "    </tr>\n",
       "    <tr>\n",
       "      <th>3</th>\n",
       "      <td>Malaysia</td>\n",
       "      <td>645</td>\n",
       "    </tr>\n",
       "    <tr>\n",
       "      <th>4</th>\n",
       "      <td>Sweden</td>\n",
       "      <td>638</td>\n",
       "    </tr>\n",
       "  </tbody>\n",
       "</table>\n",
       "</div>"
      ],
      "text/plain": [
       "         country  num_games\n",
       "0  United States       1151\n",
       "1         France        803\n",
       "2        England        689\n",
       "3       Malaysia        645\n",
       "4         Sweden        638"
      ]
     },
     "execution_count": 47,
     "metadata": {},
     "output_type": "execute_result"
    }
   ],
   "source": [
    "df_num_of_home_games = df.country.value_counts().to_frame().reset_index()\n",
    "df_num_of_home_games.rename(columns={'index':'country', 'country': 'num_games'}, inplace=True)\n",
    "df_num_of_home_games.head()"
   ]
  },
  {
   "cell_type": "code",
   "execution_count": 73,
   "metadata": {},
   "outputs": [
    {
     "data": {
      "application/vnd.plotly.v1+json": {
       "config": {
        "plotlyServerURL": "https://plot.ly"
       },
       "data": [
        {
         "coloraxis": "coloraxis",
         "geo": "geo",
         "hoverlabel": {
          "namelength": 0
         },
         "hovertemplate": "<b>%{hovertext}</b><br><br>country=%{location}<br>num_games=%{z}",
         "hovertext": [
          "United States",
          "France",
          "England",
          "Malaysia",
          "Sweden",
          "Germany",
          "Brazil",
          "Spain",
          "Thailand",
          "Italy",
          "Switzerland",
          "Austria",
          "United Arab Emirates",
          "South Africa",
          "Qatar",
          "South Korea",
          "Argentina",
          "Hungary",
          "Chile",
          "Egypt",
          "Belgium",
          "Mexico",
          "Netherlands",
          "Scotland",
          "Norway",
          "Uruguay",
          "Poland",
          "Denmark",
          "Trinidad and Tobago",
          "Singapore",
          "Saudi Arabia",
          "Portugal",
          "Kuwait",
          "Tunisia",
          "Kenya",
          "Japan",
          "Finland",
          "Republic of Ireland",
          "Wales",
          "Uganda",
          "China PR",
          "Morocco",
          "Peru",
          "Turkey",
          "Tanzania",
          "Australia",
          "Romania",
          "Indonesia",
          "Malawi",
          "Greece",
          "Jamaica",
          "Costa Rica",
          "Cyprus",
          "Ethiopia",
          "Bulgaria",
          "Iran",
          "India",
          "Oman",
          "Malta",
          "Ghana",
          "Northern Ireland",
          "Zambia",
          "Jordan",
          "Bahrain",
          "Honduras",
          "Gabon",
          "Israel",
          "Ivory Coast",
          "Luxembourg",
          "Paraguay",
          "Yugoslavia",
          "Estonia",
          "Russia",
          "Hong Kong",
          "Ecuador",
          "Nigeria",
          "Senegal",
          "Algeria",
          "Haiti",
          "Mali",
          "Czechoslovakia",
          "Bolivia",
          "Iceland",
          "Colombia",
          "Guatemala",
          "Panama",
          "El Salvador",
          "Zimbabwe",
          "Venezuela",
          "Cameroon",
          "Congo",
          "Soviet Union",
          "Libya",
          "Latvia",
          "Albania",
          "Lebanon",
          "Burkina Faso",
          "Sudan",
          "Rwanda",
          "Angola",
          "Barbados",
          "Iraq",
          "Martinique",
          "New Zealand",
          "Fiji",
          "Lithuania",
          "Togo",
          "Botswana",
          "Mozambique",
          "Suriname",
          "Liberia",
          "Ukraine",
          "Guinea",
          "German DR",
          "Canada",
          "Croatia",
          "Vietnam",
          "Slovakia",
          "New Caledonia",
          "Georgia",
          "Gambia",
          "Sierra Leone",
          "Czech Republic",
          "Eswatini",
          "Bangladesh",
          "Saint Kitts and Nevis",
          "Slovenia",
          "North Macedonia",
          "Namibia",
          "Azerbaijan",
          "Equatorial Guinea",
          "Syria",
          "Uzbekistan",
          "Faroe Islands",
          "Benin",
          "Antigua and Barbuda",
          "Lesotho",
          "Grenada",
          "Guyana",
          "Nepal",
          "Malaya",
          "Madagascar",
          "Liechtenstein",
          "Mauritania",
          "Guadeloupe",
          "Belarus",
          "Saint Lucia",
          "Armenia",
          "Mauritius",
          "Bosnia and Herzegovina",
          "Philippines",
          "Bermuda",
          "Kazakhstan",
          "Niger",
          "Moldova",
          "San Marino",
          "DR Congo",
          "Burma",
          "Cambodia",
          "French Polynesia",
          "Cuba",
          "Cape Verde",
          "Netherlands Antilles",
          "Maldives",
          "Samoa",
          "Vietnam Republic",
          "Jersey",
          "Solomon Islands",
          "Pakistan",
          "Guinea-Bissau",
          "Andorra",
          "Dominica",
          "Saint Vincent and the Grenadines",
          "Sri Lanka",
          "Papua New Guinea",
          "Zaïre",
          "Vanuatu",
          "Yemen",
          "Curaçao",
          "French Guiana",
          "Puerto Rico",
          "North Korea",
          "Cayman Islands",
          "Montenegro",
          "Aruba",
          "Dominican Republic",
          "Macau",
          "Laos",
          "Chinese Taipei",
          "Réunion",
          "Tajikistan",
          "Serbia",
          "Burundi",
          "Guernsey",
          "Chad",
          "Seychelles",
          "Guam",
          "Northern Cyprus",
          "Zanzibar",
          "Turkmenistan",
          "Kyrgyzstan",
          "Gibraltar",
          "Central African Republic",
          "British Virgin Islands",
          "Netherlands Guyana",
          "British Guyana",
          "Tanganyika",
          "Western Samoa",
          "Nicaragua",
          "Isle of Man",
          "Upper Volta",
          "Djibouti",
          "Belize",
          "São Tomé and Príncipe",
          "Somalia",
          "Palestine",
          "Eritrea",
          "Dahomey",
          "Comoros",
          "U.S. Virgin Islands",
          "Northern Rhodesia",
          "Bhutan",
          "Mongolia",
          "Tonga",
          "Bahamas",
          "Anguilla",
          "Kosovo",
          "Southern Rhodesia",
          "Saint Martin",
          "Serbia and Montenegro",
          "United Arab Republic",
          "Sint Maarten",
          "Cook Islands",
          "Brunei",
          "Irish Free State",
          "South Sudan",
          "Afghanistan",
          "Ceylon",
          "Éire",
          "Vietnam DR",
          "Saarland",
          "Gold Coast",
          "Rhodesia",
          "Yemen AR",
          "Manchuria",
          "Monaco",
          "Myanmar",
          "Montserrat",
          "East Timor",
          "Nyasaland",
          "French Somaliland",
          "Northern Mariana Islands",
          "Bohemia",
          "Palau",
          "New Hebrides",
          "Yemen DPR",
          "Greenland",
          "Tahiti",
          "Turks and Caicos Islands",
          "Mayotte",
          "Belgian Congo",
          "Bohemia and Moravia",
          "Portuguese Guinea",
          "Lautoka",
          "Micronesia",
          "Mali Federation"
         ],
         "locationmode": "country names",
         "locations": [
          "United States",
          "France",
          "England",
          "Malaysia",
          "Sweden",
          "Germany",
          "Brazil",
          "Spain",
          "Thailand",
          "Italy",
          "Switzerland",
          "Austria",
          "United Arab Emirates",
          "South Africa",
          "Qatar",
          "South Korea",
          "Argentina",
          "Hungary",
          "Chile",
          "Egypt",
          "Belgium",
          "Mexico",
          "Netherlands",
          "Scotland",
          "Norway",
          "Uruguay",
          "Poland",
          "Denmark",
          "Trinidad and Tobago",
          "Singapore",
          "Saudi Arabia",
          "Portugal",
          "Kuwait",
          "Tunisia",
          "Kenya",
          "Japan",
          "Finland",
          "Republic of Ireland",
          "Wales",
          "Uganda",
          "China PR",
          "Morocco",
          "Peru",
          "Turkey",
          "Tanzania",
          "Australia",
          "Romania",
          "Indonesia",
          "Malawi",
          "Greece",
          "Jamaica",
          "Costa Rica",
          "Cyprus",
          "Ethiopia",
          "Bulgaria",
          "Iran",
          "India",
          "Oman",
          "Malta",
          "Ghana",
          "Northern Ireland",
          "Zambia",
          "Jordan",
          "Bahrain",
          "Honduras",
          "Gabon",
          "Israel",
          "Ivory Coast",
          "Luxembourg",
          "Paraguay",
          "Yugoslavia",
          "Estonia",
          "Russia",
          "Hong Kong",
          "Ecuador",
          "Nigeria",
          "Senegal",
          "Algeria",
          "Haiti",
          "Mali",
          "Czechoslovakia",
          "Bolivia",
          "Iceland",
          "Colombia",
          "Guatemala",
          "Panama",
          "El Salvador",
          "Zimbabwe",
          "Venezuela",
          "Cameroon",
          "Congo",
          "Soviet Union",
          "Libya",
          "Latvia",
          "Albania",
          "Lebanon",
          "Burkina Faso",
          "Sudan",
          "Rwanda",
          "Angola",
          "Barbados",
          "Iraq",
          "Martinique",
          "New Zealand",
          "Fiji",
          "Lithuania",
          "Togo",
          "Botswana",
          "Mozambique",
          "Suriname",
          "Liberia",
          "Ukraine",
          "Guinea",
          "German DR",
          "Canada",
          "Croatia",
          "Vietnam",
          "Slovakia",
          "New Caledonia",
          "Georgia",
          "Gambia",
          "Sierra Leone",
          "Czech Republic",
          "Eswatini",
          "Bangladesh",
          "Saint Kitts and Nevis",
          "Slovenia",
          "North Macedonia",
          "Namibia",
          "Azerbaijan",
          "Equatorial Guinea",
          "Syria",
          "Uzbekistan",
          "Faroe Islands",
          "Benin",
          "Antigua and Barbuda",
          "Lesotho",
          "Grenada",
          "Guyana",
          "Nepal",
          "Malaya",
          "Madagascar",
          "Liechtenstein",
          "Mauritania",
          "Guadeloupe",
          "Belarus",
          "Saint Lucia",
          "Armenia",
          "Mauritius",
          "Bosnia and Herzegovina",
          "Philippines",
          "Bermuda",
          "Kazakhstan",
          "Niger",
          "Moldova",
          "San Marino",
          "DR Congo",
          "Burma",
          "Cambodia",
          "French Polynesia",
          "Cuba",
          "Cape Verde",
          "Netherlands Antilles",
          "Maldives",
          "Samoa",
          "Vietnam Republic",
          "Jersey",
          "Solomon Islands",
          "Pakistan",
          "Guinea-Bissau",
          "Andorra",
          "Dominica",
          "Saint Vincent and the Grenadines",
          "Sri Lanka",
          "Papua New Guinea",
          "Zaïre",
          "Vanuatu",
          "Yemen",
          "Curaçao",
          "French Guiana",
          "Puerto Rico",
          "North Korea",
          "Cayman Islands",
          "Montenegro",
          "Aruba",
          "Dominican Republic",
          "Macau",
          "Laos",
          "Chinese Taipei",
          "Réunion",
          "Tajikistan",
          "Serbia",
          "Burundi",
          "Guernsey",
          "Chad",
          "Seychelles",
          "Guam",
          "Northern Cyprus",
          "Zanzibar",
          "Turkmenistan",
          "Kyrgyzstan",
          "Gibraltar",
          "Central African Republic",
          "British Virgin Islands",
          "Netherlands Guyana",
          "British Guyana",
          "Tanganyika",
          "Western Samoa",
          "Nicaragua",
          "Isle of Man",
          "Upper Volta",
          "Djibouti",
          "Belize",
          "São Tomé and Príncipe",
          "Somalia",
          "Palestine",
          "Eritrea",
          "Dahomey",
          "Comoros",
          "U.S. Virgin Islands",
          "Northern Rhodesia",
          "Bhutan",
          "Mongolia",
          "Tonga",
          "Bahamas",
          "Anguilla",
          "Kosovo",
          "Southern Rhodesia",
          "Saint Martin",
          "Serbia and Montenegro",
          "United Arab Republic",
          "Sint Maarten",
          "Cook Islands",
          "Brunei",
          "Irish Free State",
          "South Sudan",
          "Afghanistan",
          "Ceylon",
          "Éire",
          "Vietnam DR",
          "Saarland",
          "Gold Coast",
          "Rhodesia",
          "Yemen AR",
          "Manchuria",
          "Monaco",
          "Myanmar",
          "Montserrat",
          "East Timor",
          "Nyasaland",
          "French Somaliland",
          "Northern Mariana Islands",
          "Bohemia",
          "Palau",
          "New Hebrides",
          "Yemen DPR",
          "Greenland",
          "Tahiti",
          "Turks and Caicos Islands",
          "Mayotte",
          "Belgian Congo",
          "Bohemia and Moravia",
          "Portuguese Guinea",
          "Lautoka",
          "Micronesia",
          "Mali Federation"
         ],
         "name": "",
         "type": "choropleth",
         "z": [
          1151,
          803,
          689,
          645,
          638,
          582,
          529,
          518,
          483,
          480,
          478,
          476,
          475,
          470,
          468,
          453,
          449,
          432,
          405,
          400,
          396,
          392,
          390,
          387,
          386,
          374,
          373,
          371,
          369,
          368,
          368,
          355,
          355,
          353,
          350,
          344,
          327,
          326,
          326,
          307,
          304,
          301,
          297,
          296,
          294,
          294,
          288,
          286,
          284,
          284,
          276,
          269,
          267,
          261,
          261,
          255,
          253,
          252,
          251,
          247,
          245,
          241,
          238,
          236,
          230,
          224,
          223,
          221,
          220,
          218,
          217,
          214,
          210,
          210,
          207,
          206,
          202,
          199,
          198,
          198,
          194,
          193,
          192,
          188,
          185,
          182,
          180,
          170,
          170,
          164,
          164,
          164,
          163,
          162,
          160,
          158,
          158,
          157,
          157,
          153,
          146,
          146,
          143,
          139,
          139,
          136,
          136,
          135,
          134,
          131,
          131,
          130,
          130,
          129,
          128,
          125,
          125,
          124,
          123,
          123,
          122,
          121,
          119,
          114,
          109,
          109,
          108,
          108,
          108,
          106,
          105,
          104,
          104,
          102,
          102,
          101,
          99,
          98,
          98,
          95,
          95,
          94,
          89,
          88,
          88,
          88,
          86,
          86,
          86,
          83,
          83,
          82,
          81,
          81,
          80,
          79,
          79,
          79,
          78,
          77,
          76,
          76,
          73,
          73,
          72,
          72,
          68,
          66,
          66,
          64,
          62,
          61,
          60,
          59,
          59,
          59,
          58,
          58,
          57,
          55,
          54,
          54,
          52,
          51,
          50,
          49,
          48,
          48,
          48,
          47,
          46,
          46,
          43,
          41,
          40,
          40,
          40,
          35,
          34,
          33,
          32,
          31,
          31,
          29,
          29,
          28,
          28,
          27,
          26,
          24,
          22,
          21,
          19,
          17,
          17,
          16,
          16,
          16,
          15,
          15,
          15,
          14,
          13,
          12,
          12,
          12,
          12,
          11,
          11,
          11,
          11,
          10,
          10,
          9,
          9,
          9,
          8,
          8,
          7,
          7,
          6,
          6,
          6,
          5,
          5,
          5,
          5,
          5,
          4,
          4,
          4,
          3,
          3,
          3,
          3,
          2,
          2,
          2,
          2,
          2,
          1,
          1,
          1,
          1,
          1,
          1
         ]
        }
       ],
       "layout": {
        "coloraxis": {
         "colorbar": {
          "title": {
           "text": "num_games"
          }
         },
         "colorscale": [
          [
           0,
           "rgb(247,251,255)"
          ],
          [
           0.125,
           "rgb(222,235,247)"
          ],
          [
           0.25,
           "rgb(198,219,239)"
          ],
          [
           0.375,
           "rgb(158,202,225)"
          ],
          [
           0.5,
           "rgb(107,174,214)"
          ],
          [
           0.625,
           "rgb(66,146,198)"
          ],
          [
           0.75,
           "rgb(33,113,181)"
          ],
          [
           0.875,
           "rgb(8,81,156)"
          ],
          [
           1,
           "rgb(8,48,107)"
          ]
         ]
        },
        "geo": {
         "center": {},
         "domain": {
          "x": [
           0,
           0.98
          ],
          "y": [
           0,
           1
          ]
         }
        },
        "height": 600,
        "legend": {
         "tracegroupgap": 0
        },
        "margin": {
         "t": 60
        },
        "template": {
         "data": {
          "bar": [
           {
            "error_x": {
             "color": "#2a3f5f"
            },
            "error_y": {
             "color": "#2a3f5f"
            },
            "marker": {
             "line": {
              "color": "#E5ECF6",
              "width": 0.5
             }
            },
            "type": "bar"
           }
          ],
          "barpolar": [
           {
            "marker": {
             "line": {
              "color": "#E5ECF6",
              "width": 0.5
             }
            },
            "type": "barpolar"
           }
          ],
          "carpet": [
           {
            "aaxis": {
             "endlinecolor": "#2a3f5f",
             "gridcolor": "white",
             "linecolor": "white",
             "minorgridcolor": "white",
             "startlinecolor": "#2a3f5f"
            },
            "baxis": {
             "endlinecolor": "#2a3f5f",
             "gridcolor": "white",
             "linecolor": "white",
             "minorgridcolor": "white",
             "startlinecolor": "#2a3f5f"
            },
            "type": "carpet"
           }
          ],
          "choropleth": [
           {
            "colorbar": {
             "outlinewidth": 0,
             "ticks": ""
            },
            "type": "choropleth"
           }
          ],
          "contour": [
           {
            "colorbar": {
             "outlinewidth": 0,
             "ticks": ""
            },
            "colorscale": [
             [
              0,
              "#0d0887"
             ],
             [
              0.1111111111111111,
              "#46039f"
             ],
             [
              0.2222222222222222,
              "#7201a8"
             ],
             [
              0.3333333333333333,
              "#9c179e"
             ],
             [
              0.4444444444444444,
              "#bd3786"
             ],
             [
              0.5555555555555556,
              "#d8576b"
             ],
             [
              0.6666666666666666,
              "#ed7953"
             ],
             [
              0.7777777777777778,
              "#fb9f3a"
             ],
             [
              0.8888888888888888,
              "#fdca26"
             ],
             [
              1,
              "#f0f921"
             ]
            ],
            "type": "contour"
           }
          ],
          "contourcarpet": [
           {
            "colorbar": {
             "outlinewidth": 0,
             "ticks": ""
            },
            "type": "contourcarpet"
           }
          ],
          "heatmap": [
           {
            "colorbar": {
             "outlinewidth": 0,
             "ticks": ""
            },
            "colorscale": [
             [
              0,
              "#0d0887"
             ],
             [
              0.1111111111111111,
              "#46039f"
             ],
             [
              0.2222222222222222,
              "#7201a8"
             ],
             [
              0.3333333333333333,
              "#9c179e"
             ],
             [
              0.4444444444444444,
              "#bd3786"
             ],
             [
              0.5555555555555556,
              "#d8576b"
             ],
             [
              0.6666666666666666,
              "#ed7953"
             ],
             [
              0.7777777777777778,
              "#fb9f3a"
             ],
             [
              0.8888888888888888,
              "#fdca26"
             ],
             [
              1,
              "#f0f921"
             ]
            ],
            "type": "heatmap"
           }
          ],
          "heatmapgl": [
           {
            "colorbar": {
             "outlinewidth": 0,
             "ticks": ""
            },
            "colorscale": [
             [
              0,
              "#0d0887"
             ],
             [
              0.1111111111111111,
              "#46039f"
             ],
             [
              0.2222222222222222,
              "#7201a8"
             ],
             [
              0.3333333333333333,
              "#9c179e"
             ],
             [
              0.4444444444444444,
              "#bd3786"
             ],
             [
              0.5555555555555556,
              "#d8576b"
             ],
             [
              0.6666666666666666,
              "#ed7953"
             ],
             [
              0.7777777777777778,
              "#fb9f3a"
             ],
             [
              0.8888888888888888,
              "#fdca26"
             ],
             [
              1,
              "#f0f921"
             ]
            ],
            "type": "heatmapgl"
           }
          ],
          "histogram": [
           {
            "marker": {
             "colorbar": {
              "outlinewidth": 0,
              "ticks": ""
             }
            },
            "type": "histogram"
           }
          ],
          "histogram2d": [
           {
            "colorbar": {
             "outlinewidth": 0,
             "ticks": ""
            },
            "colorscale": [
             [
              0,
              "#0d0887"
             ],
             [
              0.1111111111111111,
              "#46039f"
             ],
             [
              0.2222222222222222,
              "#7201a8"
             ],
             [
              0.3333333333333333,
              "#9c179e"
             ],
             [
              0.4444444444444444,
              "#bd3786"
             ],
             [
              0.5555555555555556,
              "#d8576b"
             ],
             [
              0.6666666666666666,
              "#ed7953"
             ],
             [
              0.7777777777777778,
              "#fb9f3a"
             ],
             [
              0.8888888888888888,
              "#fdca26"
             ],
             [
              1,
              "#f0f921"
             ]
            ],
            "type": "histogram2d"
           }
          ],
          "histogram2dcontour": [
           {
            "colorbar": {
             "outlinewidth": 0,
             "ticks": ""
            },
            "colorscale": [
             [
              0,
              "#0d0887"
             ],
             [
              0.1111111111111111,
              "#46039f"
             ],
             [
              0.2222222222222222,
              "#7201a8"
             ],
             [
              0.3333333333333333,
              "#9c179e"
             ],
             [
              0.4444444444444444,
              "#bd3786"
             ],
             [
              0.5555555555555556,
              "#d8576b"
             ],
             [
              0.6666666666666666,
              "#ed7953"
             ],
             [
              0.7777777777777778,
              "#fb9f3a"
             ],
             [
              0.8888888888888888,
              "#fdca26"
             ],
             [
              1,
              "#f0f921"
             ]
            ],
            "type": "histogram2dcontour"
           }
          ],
          "mesh3d": [
           {
            "colorbar": {
             "outlinewidth": 0,
             "ticks": ""
            },
            "type": "mesh3d"
           }
          ],
          "parcoords": [
           {
            "line": {
             "colorbar": {
              "outlinewidth": 0,
              "ticks": ""
             }
            },
            "type": "parcoords"
           }
          ],
          "scatter": [
           {
            "marker": {
             "colorbar": {
              "outlinewidth": 0,
              "ticks": ""
             }
            },
            "type": "scatter"
           }
          ],
          "scatter3d": [
           {
            "line": {
             "colorbar": {
              "outlinewidth": 0,
              "ticks": ""
             }
            },
            "marker": {
             "colorbar": {
              "outlinewidth": 0,
              "ticks": ""
             }
            },
            "type": "scatter3d"
           }
          ],
          "scattercarpet": [
           {
            "marker": {
             "colorbar": {
              "outlinewidth": 0,
              "ticks": ""
             }
            },
            "type": "scattercarpet"
           }
          ],
          "scattergeo": [
           {
            "marker": {
             "colorbar": {
              "outlinewidth": 0,
              "ticks": ""
             }
            },
            "type": "scattergeo"
           }
          ],
          "scattergl": [
           {
            "marker": {
             "colorbar": {
              "outlinewidth": 0,
              "ticks": ""
             }
            },
            "type": "scattergl"
           }
          ],
          "scattermapbox": [
           {
            "marker": {
             "colorbar": {
              "outlinewidth": 0,
              "ticks": ""
             }
            },
            "type": "scattermapbox"
           }
          ],
          "scatterpolar": [
           {
            "marker": {
             "colorbar": {
              "outlinewidth": 0,
              "ticks": ""
             }
            },
            "type": "scatterpolar"
           }
          ],
          "scatterpolargl": [
           {
            "marker": {
             "colorbar": {
              "outlinewidth": 0,
              "ticks": ""
             }
            },
            "type": "scatterpolargl"
           }
          ],
          "scatterternary": [
           {
            "marker": {
             "colorbar": {
              "outlinewidth": 0,
              "ticks": ""
             }
            },
            "type": "scatterternary"
           }
          ],
          "surface": [
           {
            "colorbar": {
             "outlinewidth": 0,
             "ticks": ""
            },
            "colorscale": [
             [
              0,
              "#0d0887"
             ],
             [
              0.1111111111111111,
              "#46039f"
             ],
             [
              0.2222222222222222,
              "#7201a8"
             ],
             [
              0.3333333333333333,
              "#9c179e"
             ],
             [
              0.4444444444444444,
              "#bd3786"
             ],
             [
              0.5555555555555556,
              "#d8576b"
             ],
             [
              0.6666666666666666,
              "#ed7953"
             ],
             [
              0.7777777777777778,
              "#fb9f3a"
             ],
             [
              0.8888888888888888,
              "#fdca26"
             ],
             [
              1,
              "#f0f921"
             ]
            ],
            "type": "surface"
           }
          ],
          "table": [
           {
            "cells": {
             "fill": {
              "color": "#EBF0F8"
             },
             "line": {
              "color": "white"
             }
            },
            "header": {
             "fill": {
              "color": "#C8D4E3"
             },
             "line": {
              "color": "white"
             }
            },
            "type": "table"
           }
          ]
         },
         "layout": {
          "annotationdefaults": {
           "arrowcolor": "#2a3f5f",
           "arrowhead": 0,
           "arrowwidth": 1
          },
          "colorscale": {
           "diverging": [
            [
             0,
             "#8e0152"
            ],
            [
             0.1,
             "#c51b7d"
            ],
            [
             0.2,
             "#de77ae"
            ],
            [
             0.3,
             "#f1b6da"
            ],
            [
             0.4,
             "#fde0ef"
            ],
            [
             0.5,
             "#f7f7f7"
            ],
            [
             0.6,
             "#e6f5d0"
            ],
            [
             0.7,
             "#b8e186"
            ],
            [
             0.8,
             "#7fbc41"
            ],
            [
             0.9,
             "#4d9221"
            ],
            [
             1,
             "#276419"
            ]
           ],
           "sequential": [
            [
             0,
             "#0d0887"
            ],
            [
             0.1111111111111111,
             "#46039f"
            ],
            [
             0.2222222222222222,
             "#7201a8"
            ],
            [
             0.3333333333333333,
             "#9c179e"
            ],
            [
             0.4444444444444444,
             "#bd3786"
            ],
            [
             0.5555555555555556,
             "#d8576b"
            ],
            [
             0.6666666666666666,
             "#ed7953"
            ],
            [
             0.7777777777777778,
             "#fb9f3a"
            ],
            [
             0.8888888888888888,
             "#fdca26"
            ],
            [
             1,
             "#f0f921"
            ]
           ],
           "sequentialminus": [
            [
             0,
             "#0d0887"
            ],
            [
             0.1111111111111111,
             "#46039f"
            ],
            [
             0.2222222222222222,
             "#7201a8"
            ],
            [
             0.3333333333333333,
             "#9c179e"
            ],
            [
             0.4444444444444444,
             "#bd3786"
            ],
            [
             0.5555555555555556,
             "#d8576b"
            ],
            [
             0.6666666666666666,
             "#ed7953"
            ],
            [
             0.7777777777777778,
             "#fb9f3a"
            ],
            [
             0.8888888888888888,
             "#fdca26"
            ],
            [
             1,
             "#f0f921"
            ]
           ]
          },
          "colorway": [
           "#636efa",
           "#EF553B",
           "#00cc96",
           "#ab63fa",
           "#FFA15A",
           "#19d3f3",
           "#FF6692",
           "#B6E880",
           "#FF97FF",
           "#FECB52"
          ],
          "font": {
           "color": "#2a3f5f"
          },
          "geo": {
           "bgcolor": "white",
           "lakecolor": "white",
           "landcolor": "#E5ECF6",
           "showlakes": true,
           "showland": true,
           "subunitcolor": "white"
          },
          "hoverlabel": {
           "align": "left"
          },
          "hovermode": "closest",
          "mapbox": {
           "style": "light"
          },
          "paper_bgcolor": "white",
          "plot_bgcolor": "#E5ECF6",
          "polar": {
           "angularaxis": {
            "gridcolor": "white",
            "linecolor": "white",
            "ticks": ""
           },
           "bgcolor": "#E5ECF6",
           "radialaxis": {
            "gridcolor": "white",
            "linecolor": "white",
            "ticks": ""
           }
          },
          "scene": {
           "xaxis": {
            "backgroundcolor": "#E5ECF6",
            "gridcolor": "white",
            "gridwidth": 2,
            "linecolor": "white",
            "showbackground": true,
            "ticks": "",
            "zerolinecolor": "white"
           },
           "yaxis": {
            "backgroundcolor": "#E5ECF6",
            "gridcolor": "white",
            "gridwidth": 2,
            "linecolor": "white",
            "showbackground": true,
            "ticks": "",
            "zerolinecolor": "white"
           },
           "zaxis": {
            "backgroundcolor": "#E5ECF6",
            "gridcolor": "white",
            "gridwidth": 2,
            "linecolor": "white",
            "showbackground": true,
            "ticks": "",
            "zerolinecolor": "white"
           }
          },
          "shapedefaults": {
           "line": {
            "color": "#2a3f5f"
           }
          },
          "ternary": {
           "aaxis": {
            "gridcolor": "white",
            "linecolor": "white",
            "ticks": ""
           },
           "baxis": {
            "gridcolor": "white",
            "linecolor": "white",
            "ticks": ""
           },
           "bgcolor": "#E5ECF6",
           "caxis": {
            "gridcolor": "white",
            "linecolor": "white",
            "ticks": ""
           }
          },
          "title": {
           "x": 0.05
          },
          "xaxis": {
           "automargin": true,
           "gridcolor": "white",
           "linecolor": "white",
           "ticks": "",
           "zerolinecolor": "white",
           "zerolinewidth": 2
          },
          "yaxis": {
           "automargin": true,
           "gridcolor": "white",
           "linecolor": "white",
           "ticks": "",
           "zerolinecolor": "white",
           "zerolinewidth": 2
          }
         }
        }
       }
      },
      "text/html": [
       "<div>\n",
       "        \n",
       "        \n",
       "            <div id=\"9be706b2-506b-4a70-afed-6f7d0aa59613\" class=\"plotly-graph-div\" style=\"height:600px; width:100%;\"></div>\n",
       "            <script type=\"text/javascript\">\n",
       "                require([\"plotly\"], function(Plotly) {\n",
       "                    window.PLOTLYENV=window.PLOTLYENV || {};\n",
       "                    \n",
       "                if (document.getElementById(\"9be706b2-506b-4a70-afed-6f7d0aa59613\")) {\n",
       "                    Plotly.newPlot(\n",
       "                        '9be706b2-506b-4a70-afed-6f7d0aa59613',\n",
       "                        [{\"coloraxis\": \"coloraxis\", \"geo\": \"geo\", \"hoverlabel\": {\"namelength\": 0}, \"hovertemplate\": \"<b>%{hovertext}</b><br><br>country=%{location}<br>num_games=%{z}\", \"hovertext\": [\"United States\", \"France\", \"England\", \"Malaysia\", \"Sweden\", \"Germany\", \"Brazil\", \"Spain\", \"Thailand\", \"Italy\", \"Switzerland\", \"Austria\", \"United Arab Emirates\", \"South Africa\", \"Qatar\", \"South Korea\", \"Argentina\", \"Hungary\", \"Chile\", \"Egypt\", \"Belgium\", \"Mexico\", \"Netherlands\", \"Scotland\", \"Norway\", \"Uruguay\", \"Poland\", \"Denmark\", \"Trinidad and Tobago\", \"Singapore\", \"Saudi Arabia\", \"Portugal\", \"Kuwait\", \"Tunisia\", \"Kenya\", \"Japan\", \"Finland\", \"Republic of Ireland\", \"Wales\", \"Uganda\", \"China PR\", \"Morocco\", \"Peru\", \"Turkey\", \"Tanzania\", \"Australia\", \"Romania\", \"Indonesia\", \"Malawi\", \"Greece\", \"Jamaica\", \"Costa Rica\", \"Cyprus\", \"Ethiopia\", \"Bulgaria\", \"Iran\", \"India\", \"Oman\", \"Malta\", \"Ghana\", \"Northern Ireland\", \"Zambia\", \"Jordan\", \"Bahrain\", \"Honduras\", \"Gabon\", \"Israel\", \"Ivory Coast\", \"Luxembourg\", \"Paraguay\", \"Yugoslavia\", \"Estonia\", \"Russia\", \"Hong Kong\", \"Ecuador\", \"Nigeria\", \"Senegal\", \"Algeria\", \"Haiti\", \"Mali\", \"Czechoslovakia\", \"Bolivia\", \"Iceland\", \"Colombia\", \"Guatemala\", \"Panama\", \"El Salvador\", \"Zimbabwe\", \"Venezuela\", \"Cameroon\", \"Congo\", \"Soviet Union\", \"Libya\", \"Latvia\", \"Albania\", \"Lebanon\", \"Burkina Faso\", \"Sudan\", \"Rwanda\", \"Angola\", \"Barbados\", \"Iraq\", \"Martinique\", \"New Zealand\", \"Fiji\", \"Lithuania\", \"Togo\", \"Botswana\", \"Mozambique\", \"Suriname\", \"Liberia\", \"Ukraine\", \"Guinea\", \"German DR\", \"Canada\", \"Croatia\", \"Vietnam\", \"Slovakia\", \"New Caledonia\", \"Georgia\", \"Gambia\", \"Sierra Leone\", \"Czech Republic\", \"Eswatini\", \"Bangladesh\", \"Saint Kitts and Nevis\", \"Slovenia\", \"North Macedonia\", \"Namibia\", \"Azerbaijan\", \"Equatorial Guinea\", \"Syria\", \"Uzbekistan\", \"Faroe Islands\", \"Benin\", \"Antigua and Barbuda\", \"Lesotho\", \"Grenada\", \"Guyana\", \"Nepal\", \"Malaya\", \"Madagascar\", \"Liechtenstein\", \"Mauritania\", \"Guadeloupe\", \"Belarus\", \"Saint Lucia\", \"Armenia\", \"Mauritius\", \"Bosnia and Herzegovina\", \"Philippines\", \"Bermuda\", \"Kazakhstan\", \"Niger\", \"Moldova\", \"San Marino\", \"DR Congo\", \"Burma\", \"Cambodia\", \"French Polynesia\", \"Cuba\", \"Cape Verde\", \"Netherlands Antilles\", \"Maldives\", \"Samoa\", \"Vietnam Republic\", \"Jersey\", \"Solomon Islands\", \"Pakistan\", \"Guinea-Bissau\", \"Andorra\", \"Dominica\", \"Saint Vincent and the Grenadines\", \"Sri Lanka\", \"Papua New Guinea\", \"Za\\u00efre\", \"Vanuatu\", \"Yemen\", \"Cura\\u00e7ao\", \"French Guiana\", \"Puerto Rico\", \"North Korea\", \"Cayman Islands\", \"Montenegro\", \"Aruba\", \"Dominican Republic\", \"Macau\", \"Laos\", \"Chinese Taipei\", \"R\\u00e9union\", \"Tajikistan\", \"Serbia\", \"Burundi\", \"Guernsey\", \"Chad\", \"Seychelles\", \"Guam\", \"Northern Cyprus\", \"Zanzibar\", \"Turkmenistan\", \"Kyrgyzstan\", \"Gibraltar\", \"Central African Republic\", \"British Virgin Islands\", \"Netherlands Guyana\", \"British Guyana\", \"Tanganyika\", \"Western Samoa\", \"Nicaragua\", \"Isle of Man\", \"Upper Volta\", \"Djibouti\", \"Belize\", \"S\\u00e3o Tom\\u00e9 and Pr\\u00edncipe\", \"Somalia\", \"Palestine\", \"Eritrea\", \"Dahomey\", \"Comoros\", \"U.S. Virgin Islands\", \"Northern Rhodesia\", \"Bhutan\", \"Mongolia\", \"Tonga\", \"Bahamas\", \"Anguilla\", \"Kosovo\", \"Southern Rhodesia\", \"Saint Martin\", \"Serbia and Montenegro\", \"United Arab Republic\", \"Sint Maarten\", \"Cook Islands\", \"Brunei\", \"Irish Free State\", \"South Sudan\", \"Afghanistan\", \"Ceylon\", \"\\u00c9ire\", \"Vietnam DR\", \"Saarland\", \"Gold Coast\", \"Rhodesia\", \"Yemen AR\", \"Manchuria\", \"Monaco\", \"Myanmar\", \"Montserrat\", \"East Timor\", \"Nyasaland\", \"French Somaliland\", \"Northern Mariana Islands\", \"Bohemia\", \"Palau\", \"New Hebrides\", \"Yemen DPR\", \"Greenland\", \"Tahiti\", \"Turks and Caicos Islands\", \"Mayotte\", \"Belgian Congo\", \"Bohemia and Moravia\", \"Portuguese Guinea\", \"Lautoka\", \"Micronesia\", \"Mali Federation\"], \"locationmode\": \"country names\", \"locations\": [\"United States\", \"France\", \"England\", \"Malaysia\", \"Sweden\", \"Germany\", \"Brazil\", \"Spain\", \"Thailand\", \"Italy\", \"Switzerland\", \"Austria\", \"United Arab Emirates\", \"South Africa\", \"Qatar\", \"South Korea\", \"Argentina\", \"Hungary\", \"Chile\", \"Egypt\", \"Belgium\", \"Mexico\", \"Netherlands\", \"Scotland\", \"Norway\", \"Uruguay\", \"Poland\", \"Denmark\", \"Trinidad and Tobago\", \"Singapore\", \"Saudi Arabia\", \"Portugal\", \"Kuwait\", \"Tunisia\", \"Kenya\", \"Japan\", \"Finland\", \"Republic of Ireland\", \"Wales\", \"Uganda\", \"China PR\", \"Morocco\", \"Peru\", \"Turkey\", \"Tanzania\", \"Australia\", \"Romania\", \"Indonesia\", \"Malawi\", \"Greece\", \"Jamaica\", \"Costa Rica\", \"Cyprus\", \"Ethiopia\", \"Bulgaria\", \"Iran\", \"India\", \"Oman\", \"Malta\", \"Ghana\", \"Northern Ireland\", \"Zambia\", \"Jordan\", \"Bahrain\", \"Honduras\", \"Gabon\", \"Israel\", \"Ivory Coast\", \"Luxembourg\", \"Paraguay\", \"Yugoslavia\", \"Estonia\", \"Russia\", \"Hong Kong\", \"Ecuador\", \"Nigeria\", \"Senegal\", \"Algeria\", \"Haiti\", \"Mali\", \"Czechoslovakia\", \"Bolivia\", \"Iceland\", \"Colombia\", \"Guatemala\", \"Panama\", \"El Salvador\", \"Zimbabwe\", \"Venezuela\", \"Cameroon\", \"Congo\", \"Soviet Union\", \"Libya\", \"Latvia\", \"Albania\", \"Lebanon\", \"Burkina Faso\", \"Sudan\", \"Rwanda\", \"Angola\", \"Barbados\", \"Iraq\", \"Martinique\", \"New Zealand\", \"Fiji\", \"Lithuania\", \"Togo\", \"Botswana\", \"Mozambique\", \"Suriname\", \"Liberia\", \"Ukraine\", \"Guinea\", \"German DR\", \"Canada\", \"Croatia\", \"Vietnam\", \"Slovakia\", \"New Caledonia\", \"Georgia\", \"Gambia\", \"Sierra Leone\", \"Czech Republic\", \"Eswatini\", \"Bangladesh\", \"Saint Kitts and Nevis\", \"Slovenia\", \"North Macedonia\", \"Namibia\", \"Azerbaijan\", \"Equatorial Guinea\", \"Syria\", \"Uzbekistan\", \"Faroe Islands\", \"Benin\", \"Antigua and Barbuda\", \"Lesotho\", \"Grenada\", \"Guyana\", \"Nepal\", \"Malaya\", \"Madagascar\", \"Liechtenstein\", \"Mauritania\", \"Guadeloupe\", \"Belarus\", \"Saint Lucia\", \"Armenia\", \"Mauritius\", \"Bosnia and Herzegovina\", \"Philippines\", \"Bermuda\", \"Kazakhstan\", \"Niger\", \"Moldova\", \"San Marino\", \"DR Congo\", \"Burma\", \"Cambodia\", \"French Polynesia\", \"Cuba\", \"Cape Verde\", \"Netherlands Antilles\", \"Maldives\", \"Samoa\", \"Vietnam Republic\", \"Jersey\", \"Solomon Islands\", \"Pakistan\", \"Guinea-Bissau\", \"Andorra\", \"Dominica\", \"Saint Vincent and the Grenadines\", \"Sri Lanka\", \"Papua New Guinea\", \"Za\\u00efre\", \"Vanuatu\", \"Yemen\", \"Cura\\u00e7ao\", \"French Guiana\", \"Puerto Rico\", \"North Korea\", \"Cayman Islands\", \"Montenegro\", \"Aruba\", \"Dominican Republic\", \"Macau\", \"Laos\", \"Chinese Taipei\", \"R\\u00e9union\", \"Tajikistan\", \"Serbia\", \"Burundi\", \"Guernsey\", \"Chad\", \"Seychelles\", \"Guam\", \"Northern Cyprus\", \"Zanzibar\", \"Turkmenistan\", \"Kyrgyzstan\", \"Gibraltar\", \"Central African Republic\", \"British Virgin Islands\", \"Netherlands Guyana\", \"British Guyana\", \"Tanganyika\", \"Western Samoa\", \"Nicaragua\", \"Isle of Man\", \"Upper Volta\", \"Djibouti\", \"Belize\", \"S\\u00e3o Tom\\u00e9 and Pr\\u00edncipe\", \"Somalia\", \"Palestine\", \"Eritrea\", \"Dahomey\", \"Comoros\", \"U.S. Virgin Islands\", \"Northern Rhodesia\", \"Bhutan\", \"Mongolia\", \"Tonga\", \"Bahamas\", \"Anguilla\", \"Kosovo\", \"Southern Rhodesia\", \"Saint Martin\", \"Serbia and Montenegro\", \"United Arab Republic\", \"Sint Maarten\", \"Cook Islands\", \"Brunei\", \"Irish Free State\", \"South Sudan\", \"Afghanistan\", \"Ceylon\", \"\\u00c9ire\", \"Vietnam DR\", \"Saarland\", \"Gold Coast\", \"Rhodesia\", \"Yemen AR\", \"Manchuria\", \"Monaco\", \"Myanmar\", \"Montserrat\", \"East Timor\", \"Nyasaland\", \"French Somaliland\", \"Northern Mariana Islands\", \"Bohemia\", \"Palau\", \"New Hebrides\", \"Yemen DPR\", \"Greenland\", \"Tahiti\", \"Turks and Caicos Islands\", \"Mayotte\", \"Belgian Congo\", \"Bohemia and Moravia\", \"Portuguese Guinea\", \"Lautoka\", \"Micronesia\", \"Mali Federation\"], \"name\": \"\", \"type\": \"choropleth\", \"z\": [1151, 803, 689, 645, 638, 582, 529, 518, 483, 480, 478, 476, 475, 470, 468, 453, 449, 432, 405, 400, 396, 392, 390, 387, 386, 374, 373, 371, 369, 368, 368, 355, 355, 353, 350, 344, 327, 326, 326, 307, 304, 301, 297, 296, 294, 294, 288, 286, 284, 284, 276, 269, 267, 261, 261, 255, 253, 252, 251, 247, 245, 241, 238, 236, 230, 224, 223, 221, 220, 218, 217, 214, 210, 210, 207, 206, 202, 199, 198, 198, 194, 193, 192, 188, 185, 182, 180, 170, 170, 164, 164, 164, 163, 162, 160, 158, 158, 157, 157, 153, 146, 146, 143, 139, 139, 136, 136, 135, 134, 131, 131, 130, 130, 129, 128, 125, 125, 124, 123, 123, 122, 121, 119, 114, 109, 109, 108, 108, 108, 106, 105, 104, 104, 102, 102, 101, 99, 98, 98, 95, 95, 94, 89, 88, 88, 88, 86, 86, 86, 83, 83, 82, 81, 81, 80, 79, 79, 79, 78, 77, 76, 76, 73, 73, 72, 72, 68, 66, 66, 64, 62, 61, 60, 59, 59, 59, 58, 58, 57, 55, 54, 54, 52, 51, 50, 49, 48, 48, 48, 47, 46, 46, 43, 41, 40, 40, 40, 35, 34, 33, 32, 31, 31, 29, 29, 28, 28, 27, 26, 24, 22, 21, 19, 17, 17, 16, 16, 16, 15, 15, 15, 14, 13, 12, 12, 12, 12, 11, 11, 11, 11, 10, 10, 9, 9, 9, 8, 8, 7, 7, 6, 6, 6, 5, 5, 5, 5, 5, 4, 4, 4, 3, 3, 3, 3, 2, 2, 2, 2, 2, 1, 1, 1, 1, 1, 1]}],\n",
       "                        {\"coloraxis\": {\"colorbar\": {\"title\": {\"text\": \"num_games\"}}, \"colorscale\": [[0.0, \"rgb(247,251,255)\"], [0.125, \"rgb(222,235,247)\"], [0.25, \"rgb(198,219,239)\"], [0.375, \"rgb(158,202,225)\"], [0.5, \"rgb(107,174,214)\"], [0.625, \"rgb(66,146,198)\"], [0.75, \"rgb(33,113,181)\"], [0.875, \"rgb(8,81,156)\"], [1.0, \"rgb(8,48,107)\"]]}, \"geo\": {\"center\": {}, \"domain\": {\"x\": [0.0, 0.98], \"y\": [0.0, 1.0]}}, \"height\": 600, \"legend\": {\"tracegroupgap\": 0}, \"margin\": {\"t\": 60}, \"template\": {\"data\": {\"bar\": [{\"error_x\": {\"color\": \"#2a3f5f\"}, \"error_y\": {\"color\": \"#2a3f5f\"}, \"marker\": {\"line\": {\"color\": \"#E5ECF6\", \"width\": 0.5}}, \"type\": \"bar\"}], \"barpolar\": [{\"marker\": {\"line\": {\"color\": \"#E5ECF6\", \"width\": 0.5}}, \"type\": \"barpolar\"}], \"carpet\": [{\"aaxis\": {\"endlinecolor\": \"#2a3f5f\", \"gridcolor\": \"white\", \"linecolor\": \"white\", \"minorgridcolor\": \"white\", \"startlinecolor\": \"#2a3f5f\"}, \"baxis\": {\"endlinecolor\": \"#2a3f5f\", \"gridcolor\": \"white\", \"linecolor\": \"white\", \"minorgridcolor\": \"white\", \"startlinecolor\": \"#2a3f5f\"}, \"type\": \"carpet\"}], \"choropleth\": [{\"colorbar\": {\"outlinewidth\": 0, \"ticks\": \"\"}, \"type\": \"choropleth\"}], \"contour\": [{\"colorbar\": {\"outlinewidth\": 0, \"ticks\": \"\"}, \"colorscale\": [[0.0, \"#0d0887\"], [0.1111111111111111, \"#46039f\"], [0.2222222222222222, \"#7201a8\"], [0.3333333333333333, \"#9c179e\"], [0.4444444444444444, \"#bd3786\"], [0.5555555555555556, \"#d8576b\"], [0.6666666666666666, \"#ed7953\"], [0.7777777777777778, \"#fb9f3a\"], [0.8888888888888888, \"#fdca26\"], [1.0, \"#f0f921\"]], \"type\": \"contour\"}], \"contourcarpet\": [{\"colorbar\": {\"outlinewidth\": 0, \"ticks\": \"\"}, \"type\": \"contourcarpet\"}], \"heatmap\": [{\"colorbar\": {\"outlinewidth\": 0, \"ticks\": \"\"}, \"colorscale\": [[0.0, \"#0d0887\"], [0.1111111111111111, \"#46039f\"], [0.2222222222222222, \"#7201a8\"], [0.3333333333333333, \"#9c179e\"], [0.4444444444444444, \"#bd3786\"], [0.5555555555555556, \"#d8576b\"], [0.6666666666666666, \"#ed7953\"], [0.7777777777777778, \"#fb9f3a\"], [0.8888888888888888, \"#fdca26\"], [1.0, \"#f0f921\"]], \"type\": \"heatmap\"}], \"heatmapgl\": [{\"colorbar\": {\"outlinewidth\": 0, \"ticks\": \"\"}, \"colorscale\": [[0.0, \"#0d0887\"], [0.1111111111111111, \"#46039f\"], [0.2222222222222222, \"#7201a8\"], [0.3333333333333333, \"#9c179e\"], [0.4444444444444444, \"#bd3786\"], [0.5555555555555556, \"#d8576b\"], [0.6666666666666666, \"#ed7953\"], [0.7777777777777778, \"#fb9f3a\"], [0.8888888888888888, \"#fdca26\"], [1.0, \"#f0f921\"]], \"type\": \"heatmapgl\"}], \"histogram\": [{\"marker\": {\"colorbar\": {\"outlinewidth\": 0, \"ticks\": \"\"}}, \"type\": \"histogram\"}], \"histogram2d\": [{\"colorbar\": {\"outlinewidth\": 0, \"ticks\": \"\"}, \"colorscale\": [[0.0, \"#0d0887\"], [0.1111111111111111, \"#46039f\"], [0.2222222222222222, \"#7201a8\"], [0.3333333333333333, \"#9c179e\"], [0.4444444444444444, \"#bd3786\"], [0.5555555555555556, \"#d8576b\"], [0.6666666666666666, \"#ed7953\"], [0.7777777777777778, \"#fb9f3a\"], [0.8888888888888888, \"#fdca26\"], [1.0, \"#f0f921\"]], \"type\": \"histogram2d\"}], \"histogram2dcontour\": [{\"colorbar\": {\"outlinewidth\": 0, \"ticks\": \"\"}, \"colorscale\": [[0.0, \"#0d0887\"], [0.1111111111111111, \"#46039f\"], [0.2222222222222222, \"#7201a8\"], [0.3333333333333333, \"#9c179e\"], [0.4444444444444444, \"#bd3786\"], [0.5555555555555556, \"#d8576b\"], [0.6666666666666666, \"#ed7953\"], [0.7777777777777778, \"#fb9f3a\"], [0.8888888888888888, \"#fdca26\"], [1.0, \"#f0f921\"]], \"type\": \"histogram2dcontour\"}], \"mesh3d\": [{\"colorbar\": {\"outlinewidth\": 0, \"ticks\": \"\"}, \"type\": \"mesh3d\"}], \"parcoords\": [{\"line\": {\"colorbar\": {\"outlinewidth\": 0, \"ticks\": \"\"}}, \"type\": \"parcoords\"}], \"scatter\": [{\"marker\": {\"colorbar\": {\"outlinewidth\": 0, \"ticks\": \"\"}}, \"type\": \"scatter\"}], \"scatter3d\": [{\"line\": {\"colorbar\": {\"outlinewidth\": 0, \"ticks\": \"\"}}, \"marker\": {\"colorbar\": {\"outlinewidth\": 0, \"ticks\": \"\"}}, \"type\": \"scatter3d\"}], \"scattercarpet\": [{\"marker\": {\"colorbar\": {\"outlinewidth\": 0, \"ticks\": \"\"}}, \"type\": \"scattercarpet\"}], \"scattergeo\": [{\"marker\": {\"colorbar\": {\"outlinewidth\": 0, \"ticks\": \"\"}}, \"type\": \"scattergeo\"}], \"scattergl\": [{\"marker\": {\"colorbar\": {\"outlinewidth\": 0, \"ticks\": \"\"}}, \"type\": \"scattergl\"}], \"scattermapbox\": [{\"marker\": {\"colorbar\": {\"outlinewidth\": 0, \"ticks\": \"\"}}, \"type\": \"scattermapbox\"}], \"scatterpolar\": [{\"marker\": {\"colorbar\": {\"outlinewidth\": 0, \"ticks\": \"\"}}, \"type\": \"scatterpolar\"}], \"scatterpolargl\": [{\"marker\": {\"colorbar\": {\"outlinewidth\": 0, \"ticks\": \"\"}}, \"type\": \"scatterpolargl\"}], \"scatterternary\": [{\"marker\": {\"colorbar\": {\"outlinewidth\": 0, \"ticks\": \"\"}}, \"type\": \"scatterternary\"}], \"surface\": [{\"colorbar\": {\"outlinewidth\": 0, \"ticks\": \"\"}, \"colorscale\": [[0.0, \"#0d0887\"], [0.1111111111111111, \"#46039f\"], [0.2222222222222222, \"#7201a8\"], [0.3333333333333333, \"#9c179e\"], [0.4444444444444444, \"#bd3786\"], [0.5555555555555556, \"#d8576b\"], [0.6666666666666666, \"#ed7953\"], [0.7777777777777778, \"#fb9f3a\"], [0.8888888888888888, \"#fdca26\"], [1.0, \"#f0f921\"]], \"type\": \"surface\"}], \"table\": [{\"cells\": {\"fill\": {\"color\": \"#EBF0F8\"}, \"line\": {\"color\": \"white\"}}, \"header\": {\"fill\": {\"color\": \"#C8D4E3\"}, \"line\": {\"color\": \"white\"}}, \"type\": \"table\"}]}, \"layout\": {\"annotationdefaults\": {\"arrowcolor\": \"#2a3f5f\", \"arrowhead\": 0, \"arrowwidth\": 1}, \"colorscale\": {\"diverging\": [[0, \"#8e0152\"], [0.1, \"#c51b7d\"], [0.2, \"#de77ae\"], [0.3, \"#f1b6da\"], [0.4, \"#fde0ef\"], [0.5, \"#f7f7f7\"], [0.6, \"#e6f5d0\"], [0.7, \"#b8e186\"], [0.8, \"#7fbc41\"], [0.9, \"#4d9221\"], [1, \"#276419\"]], \"sequential\": [[0.0, \"#0d0887\"], [0.1111111111111111, \"#46039f\"], [0.2222222222222222, \"#7201a8\"], [0.3333333333333333, \"#9c179e\"], [0.4444444444444444, \"#bd3786\"], [0.5555555555555556, \"#d8576b\"], [0.6666666666666666, \"#ed7953\"], [0.7777777777777778, \"#fb9f3a\"], [0.8888888888888888, \"#fdca26\"], [1.0, \"#f0f921\"]], \"sequentialminus\": [[0.0, \"#0d0887\"], [0.1111111111111111, \"#46039f\"], [0.2222222222222222, \"#7201a8\"], [0.3333333333333333, \"#9c179e\"], [0.4444444444444444, \"#bd3786\"], [0.5555555555555556, \"#d8576b\"], [0.6666666666666666, \"#ed7953\"], [0.7777777777777778, \"#fb9f3a\"], [0.8888888888888888, \"#fdca26\"], [1.0, \"#f0f921\"]]}, \"colorway\": [\"#636efa\", \"#EF553B\", \"#00cc96\", \"#ab63fa\", \"#FFA15A\", \"#19d3f3\", \"#FF6692\", \"#B6E880\", \"#FF97FF\", \"#FECB52\"], \"font\": {\"color\": \"#2a3f5f\"}, \"geo\": {\"bgcolor\": \"white\", \"lakecolor\": \"white\", \"landcolor\": \"#E5ECF6\", \"showlakes\": true, \"showland\": true, \"subunitcolor\": \"white\"}, \"hoverlabel\": {\"align\": \"left\"}, \"hovermode\": \"closest\", \"mapbox\": {\"style\": \"light\"}, \"paper_bgcolor\": \"white\", \"plot_bgcolor\": \"#E5ECF6\", \"polar\": {\"angularaxis\": {\"gridcolor\": \"white\", \"linecolor\": \"white\", \"ticks\": \"\"}, \"bgcolor\": \"#E5ECF6\", \"radialaxis\": {\"gridcolor\": \"white\", \"linecolor\": \"white\", \"ticks\": \"\"}}, \"scene\": {\"xaxis\": {\"backgroundcolor\": \"#E5ECF6\", \"gridcolor\": \"white\", \"gridwidth\": 2, \"linecolor\": \"white\", \"showbackground\": true, \"ticks\": \"\", \"zerolinecolor\": \"white\"}, \"yaxis\": {\"backgroundcolor\": \"#E5ECF6\", \"gridcolor\": \"white\", \"gridwidth\": 2, \"linecolor\": \"white\", \"showbackground\": true, \"ticks\": \"\", \"zerolinecolor\": \"white\"}, \"zaxis\": {\"backgroundcolor\": \"#E5ECF6\", \"gridcolor\": \"white\", \"gridwidth\": 2, \"linecolor\": \"white\", \"showbackground\": true, \"ticks\": \"\", \"zerolinecolor\": \"white\"}}, \"shapedefaults\": {\"line\": {\"color\": \"#2a3f5f\"}}, \"ternary\": {\"aaxis\": {\"gridcolor\": \"white\", \"linecolor\": \"white\", \"ticks\": \"\"}, \"baxis\": {\"gridcolor\": \"white\", \"linecolor\": \"white\", \"ticks\": \"\"}, \"bgcolor\": \"#E5ECF6\", \"caxis\": {\"gridcolor\": \"white\", \"linecolor\": \"white\", \"ticks\": \"\"}}, \"title\": {\"x\": 0.05}, \"xaxis\": {\"automargin\": true, \"gridcolor\": \"white\", \"linecolor\": \"white\", \"ticks\": \"\", \"zerolinecolor\": \"white\", \"zerolinewidth\": 2}, \"yaxis\": {\"automargin\": true, \"gridcolor\": \"white\", \"linecolor\": \"white\", \"ticks\": \"\", \"zerolinecolor\": \"white\", \"zerolinewidth\": 2}}}},\n",
       "                        {\"responsive\": true}\n",
       "                    ).then(function(){\n",
       "                            \n",
       "var gd = document.getElementById('9be706b2-506b-4a70-afed-6f7d0aa59613');\n",
       "var x = new MutationObserver(function (mutations, observer) {{\n",
       "        var display = window.getComputedStyle(gd).display;\n",
       "        if (!display || display === 'none') {{\n",
       "            console.log([gd, 'removed!']);\n",
       "            Plotly.purge(gd);\n",
       "            observer.disconnect();\n",
       "        }}\n",
       "}});\n",
       "\n",
       "// Listen for the removal of the full notebook cells\n",
       "var notebookContainer = gd.closest('#notebook-container');\n",
       "if (notebookContainer) {{\n",
       "    x.observe(notebookContainer, {childList: true});\n",
       "}}\n",
       "\n",
       "// Listen for the clearing of the current output cell\n",
       "var outputEl = gd.closest('.output');\n",
       "if (outputEl) {{\n",
       "    x.observe(outputEl, {childList: true});\n",
       "}}\n",
       "\n",
       "                        })\n",
       "                };\n",
       "                });\n",
       "            </script>\n",
       "        </div>"
      ]
     },
     "metadata": {},
     "output_type": "display_data"
    }
   ],
   "source": [
    "fig = px.choropleth(df_num_of_home_games, locationmode='country names', locations=\"country\", color='num_games', \n",
    "                    hover_name=\"country\", color_continuous_scale=px.colors.sequential.Blues)\n",
    "fig.show()"
   ]
  },
  {
   "cell_type": "code",
   "execution_count": 75,
   "metadata": {
    "scrolled": true
   },
   "outputs": [
    {
     "data": {
      "application/vnd.plotly.v1+json": {
       "config": {
        "plotlyServerURL": "https://plot.ly"
       },
       "data": [
        {
         "colorbar": {
          "title": {
           "text": "Number of Games"
          }
         },
         "colorscale": [
          [
           0,
           "rgb(255,245,240)"
          ],
          [
           0.125,
           "rgb(254,224,210)"
          ],
          [
           0.25,
           "rgb(252,187,161)"
          ],
          [
           0.375,
           "rgb(252,146,114)"
          ],
          [
           0.5,
           "rgb(251,106,74)"
          ],
          [
           0.625,
           "rgb(239,59,44)"
          ],
          [
           0.75,
           "rgb(203,24,29)"
          ],
          [
           0.875,
           "rgb(165,15,21)"
          ],
          [
           1,
           "rgb(103,0,13)"
          ]
         ],
         "locationmode": "country names",
         "locations": [
          "United States",
          "France",
          "England",
          "Malaysia",
          "Sweden",
          "Germany",
          "Brazil",
          "Spain",
          "Thailand",
          "Italy",
          "Switzerland",
          "Austria",
          "United Arab Emirates",
          "South Africa",
          "Qatar",
          "South Korea",
          "Argentina",
          "Hungary",
          "Chile",
          "Egypt",
          "Belgium",
          "Mexico",
          "Netherlands",
          "Scotland",
          "Norway",
          "Uruguay",
          "Poland",
          "Denmark",
          "Trinidad and Tobago",
          "Singapore",
          "Saudi Arabia",
          "Portugal",
          "Kuwait",
          "Tunisia",
          "Kenya",
          "Japan",
          "Finland",
          "Republic of Ireland",
          "Wales",
          "Uganda",
          "China PR",
          "Morocco",
          "Peru",
          "Turkey",
          "Tanzania",
          "Australia",
          "Romania",
          "Indonesia",
          "Malawi",
          "Greece",
          "Jamaica",
          "Costa Rica",
          "Cyprus",
          "Ethiopia",
          "Bulgaria",
          "Iran",
          "India",
          "Oman",
          "Malta",
          "Ghana",
          "Northern Ireland",
          "Zambia",
          "Jordan",
          "Bahrain",
          "Honduras",
          "Gabon",
          "Israel",
          "Ivory Coast",
          "Luxembourg",
          "Paraguay",
          "Yugoslavia",
          "Estonia",
          "Russia",
          "Hong Kong",
          "Ecuador",
          "Nigeria",
          "Senegal",
          "Algeria",
          "Haiti",
          "Mali",
          "Czechoslovakia",
          "Bolivia",
          "Iceland",
          "Colombia",
          "Guatemala",
          "Panama",
          "El Salvador",
          "Zimbabwe",
          "Venezuela",
          "Cameroon",
          "Congo",
          "Soviet Union",
          "Libya",
          "Latvia",
          "Albania",
          "Lebanon",
          "Burkina Faso",
          "Sudan",
          "Rwanda",
          "Angola",
          "Barbados",
          "Iraq",
          "Martinique",
          "New Zealand",
          "Fiji",
          "Lithuania",
          "Togo",
          "Botswana",
          "Mozambique",
          "Suriname",
          "Liberia",
          "Ukraine",
          "Guinea",
          "German DR",
          "Canada",
          "Croatia",
          "Vietnam",
          "Slovakia",
          "New Caledonia",
          "Georgia",
          "Gambia",
          "Sierra Leone",
          "Czech Republic",
          "Eswatini",
          "Bangladesh",
          "Saint Kitts and Nevis",
          "Slovenia",
          "North Macedonia",
          "Namibia",
          "Azerbaijan",
          "Equatorial Guinea",
          "Syria",
          "Uzbekistan",
          "Faroe Islands",
          "Benin",
          "Antigua and Barbuda",
          "Lesotho",
          "Grenada",
          "Guyana",
          "Nepal",
          "Malaya",
          "Madagascar",
          "Liechtenstein",
          "Mauritania",
          "Guadeloupe",
          "Belarus",
          "Saint Lucia",
          "Armenia",
          "Mauritius",
          "Bosnia and Herzegovina",
          "Philippines",
          "Bermuda",
          "Kazakhstan",
          "Niger",
          "Moldova",
          "San Marino",
          "DR Congo",
          "Burma",
          "Cambodia",
          "French Polynesia",
          "Cuba",
          "Cape Verde",
          "Netherlands Antilles",
          "Maldives",
          "Samoa",
          "Vietnam Republic",
          "Jersey",
          "Solomon Islands",
          "Pakistan",
          "Guinea-Bissau",
          "Andorra",
          "Dominica",
          "Saint Vincent and the Grenadines",
          "Sri Lanka",
          "Papua New Guinea",
          "Zaïre",
          "Vanuatu",
          "Yemen",
          "Curaçao",
          "French Guiana",
          "Puerto Rico",
          "North Korea",
          "Cayman Islands",
          "Montenegro",
          "Aruba",
          "Dominican Republic",
          "Macau",
          "Laos",
          "Chinese Taipei",
          "Réunion",
          "Tajikistan",
          "Serbia",
          "Burundi",
          "Guernsey",
          "Chad",
          "Seychelles",
          "Guam",
          "Northern Cyprus",
          "Zanzibar",
          "Turkmenistan",
          "Kyrgyzstan",
          "Gibraltar",
          "Central African Republic",
          "British Virgin Islands",
          "Netherlands Guyana",
          "British Guyana",
          "Tanganyika",
          "Western Samoa",
          "Nicaragua",
          "Isle of Man",
          "Upper Volta",
          "Djibouti",
          "Belize",
          "São Tomé and Príncipe",
          "Somalia",
          "Palestine",
          "Eritrea",
          "Dahomey",
          "Comoros",
          "U.S. Virgin Islands",
          "Northern Rhodesia",
          "Bhutan",
          "Mongolia",
          "Tonga",
          "Bahamas",
          "Anguilla",
          "Kosovo",
          "Southern Rhodesia",
          "Saint Martin",
          "Serbia and Montenegro",
          "United Arab Republic",
          "Sint Maarten",
          "Cook Islands",
          "Brunei",
          "Irish Free State",
          "South Sudan",
          "Afghanistan",
          "Ceylon",
          "Éire",
          "Vietnam DR",
          "Saarland",
          "Gold Coast",
          "Rhodesia",
          "Yemen AR",
          "Manchuria",
          "Monaco",
          "Myanmar",
          "Montserrat",
          "East Timor",
          "Nyasaland",
          "French Somaliland",
          "Northern Mariana Islands",
          "Bohemia",
          "Palau",
          "New Hebrides",
          "Yemen DPR",
          "Greenland",
          "Tahiti",
          "Turks and Caicos Islands",
          "Mayotte",
          "Belgian Congo",
          "Bohemia and Moravia",
          "Portuguese Guinea",
          "Lautoka",
          "Micronesia",
          "Mali Federation"
         ],
         "type": "choropleth",
         "z": [
          1151,
          803,
          689,
          645,
          638,
          582,
          529,
          518,
          483,
          480,
          478,
          476,
          475,
          470,
          468,
          453,
          449,
          432,
          405,
          400,
          396,
          392,
          390,
          387,
          386,
          374,
          373,
          371,
          369,
          368,
          368,
          355,
          355,
          353,
          350,
          344,
          327,
          326,
          326,
          307,
          304,
          301,
          297,
          296,
          294,
          294,
          288,
          286,
          284,
          284,
          276,
          269,
          267,
          261,
          261,
          255,
          253,
          252,
          251,
          247,
          245,
          241,
          238,
          236,
          230,
          224,
          223,
          221,
          220,
          218,
          217,
          214,
          210,
          210,
          207,
          206,
          202,
          199,
          198,
          198,
          194,
          193,
          192,
          188,
          185,
          182,
          180,
          170,
          170,
          164,
          164,
          164,
          163,
          162,
          160,
          158,
          158,
          157,
          157,
          153,
          146,
          146,
          143,
          139,
          139,
          136,
          136,
          135,
          134,
          131,
          131,
          130,
          130,
          129,
          128,
          125,
          125,
          124,
          123,
          123,
          122,
          121,
          119,
          114,
          109,
          109,
          108,
          108,
          108,
          106,
          105,
          104,
          104,
          102,
          102,
          101,
          99,
          98,
          98,
          95,
          95,
          94,
          89,
          88,
          88,
          88,
          86,
          86,
          86,
          83,
          83,
          82,
          81,
          81,
          80,
          79,
          79,
          79,
          78,
          77,
          76,
          76,
          73,
          73,
          72,
          72,
          68,
          66,
          66,
          64,
          62,
          61,
          60,
          59,
          59,
          59,
          58,
          58,
          57,
          55,
          54,
          54,
          52,
          51,
          50,
          49,
          48,
          48,
          48,
          47,
          46,
          46,
          43,
          41,
          40,
          40,
          40,
          35,
          34,
          33,
          32,
          31,
          31,
          29,
          29,
          28,
          28,
          27,
          26,
          24,
          22,
          21,
          19,
          17,
          17,
          16,
          16,
          16,
          15,
          15,
          15,
          14,
          13,
          12,
          12,
          12,
          12,
          11,
          11,
          11,
          11,
          10,
          10,
          9,
          9,
          9,
          8,
          8,
          7,
          7,
          6,
          6,
          6,
          5,
          5,
          5,
          5,
          5,
          4,
          4,
          4,
          3,
          3,
          3,
          3,
          2,
          2,
          2,
          2,
          2,
          1,
          1,
          1,
          1,
          1,
          1
         ]
        }
       ],
       "layout": {
        "template": {
         "data": {
          "bar": [
           {
            "error_x": {
             "color": "#2a3f5f"
            },
            "error_y": {
             "color": "#2a3f5f"
            },
            "marker": {
             "line": {
              "color": "#E5ECF6",
              "width": 0.5
             }
            },
            "type": "bar"
           }
          ],
          "barpolar": [
           {
            "marker": {
             "line": {
              "color": "#E5ECF6",
              "width": 0.5
             }
            },
            "type": "barpolar"
           }
          ],
          "carpet": [
           {
            "aaxis": {
             "endlinecolor": "#2a3f5f",
             "gridcolor": "white",
             "linecolor": "white",
             "minorgridcolor": "white",
             "startlinecolor": "#2a3f5f"
            },
            "baxis": {
             "endlinecolor": "#2a3f5f",
             "gridcolor": "white",
             "linecolor": "white",
             "minorgridcolor": "white",
             "startlinecolor": "#2a3f5f"
            },
            "type": "carpet"
           }
          ],
          "choropleth": [
           {
            "colorbar": {
             "outlinewidth": 0,
             "ticks": ""
            },
            "type": "choropleth"
           }
          ],
          "contour": [
           {
            "colorbar": {
             "outlinewidth": 0,
             "ticks": ""
            },
            "colorscale": [
             [
              0,
              "#0d0887"
             ],
             [
              0.1111111111111111,
              "#46039f"
             ],
             [
              0.2222222222222222,
              "#7201a8"
             ],
             [
              0.3333333333333333,
              "#9c179e"
             ],
             [
              0.4444444444444444,
              "#bd3786"
             ],
             [
              0.5555555555555556,
              "#d8576b"
             ],
             [
              0.6666666666666666,
              "#ed7953"
             ],
             [
              0.7777777777777778,
              "#fb9f3a"
             ],
             [
              0.8888888888888888,
              "#fdca26"
             ],
             [
              1,
              "#f0f921"
             ]
            ],
            "type": "contour"
           }
          ],
          "contourcarpet": [
           {
            "colorbar": {
             "outlinewidth": 0,
             "ticks": ""
            },
            "type": "contourcarpet"
           }
          ],
          "heatmap": [
           {
            "colorbar": {
             "outlinewidth": 0,
             "ticks": ""
            },
            "colorscale": [
             [
              0,
              "#0d0887"
             ],
             [
              0.1111111111111111,
              "#46039f"
             ],
             [
              0.2222222222222222,
              "#7201a8"
             ],
             [
              0.3333333333333333,
              "#9c179e"
             ],
             [
              0.4444444444444444,
              "#bd3786"
             ],
             [
              0.5555555555555556,
              "#d8576b"
             ],
             [
              0.6666666666666666,
              "#ed7953"
             ],
             [
              0.7777777777777778,
              "#fb9f3a"
             ],
             [
              0.8888888888888888,
              "#fdca26"
             ],
             [
              1,
              "#f0f921"
             ]
            ],
            "type": "heatmap"
           }
          ],
          "heatmapgl": [
           {
            "colorbar": {
             "outlinewidth": 0,
             "ticks": ""
            },
            "colorscale": [
             [
              0,
              "#0d0887"
             ],
             [
              0.1111111111111111,
              "#46039f"
             ],
             [
              0.2222222222222222,
              "#7201a8"
             ],
             [
              0.3333333333333333,
              "#9c179e"
             ],
             [
              0.4444444444444444,
              "#bd3786"
             ],
             [
              0.5555555555555556,
              "#d8576b"
             ],
             [
              0.6666666666666666,
              "#ed7953"
             ],
             [
              0.7777777777777778,
              "#fb9f3a"
             ],
             [
              0.8888888888888888,
              "#fdca26"
             ],
             [
              1,
              "#f0f921"
             ]
            ],
            "type": "heatmapgl"
           }
          ],
          "histogram": [
           {
            "marker": {
             "colorbar": {
              "outlinewidth": 0,
              "ticks": ""
             }
            },
            "type": "histogram"
           }
          ],
          "histogram2d": [
           {
            "colorbar": {
             "outlinewidth": 0,
             "ticks": ""
            },
            "colorscale": [
             [
              0,
              "#0d0887"
             ],
             [
              0.1111111111111111,
              "#46039f"
             ],
             [
              0.2222222222222222,
              "#7201a8"
             ],
             [
              0.3333333333333333,
              "#9c179e"
             ],
             [
              0.4444444444444444,
              "#bd3786"
             ],
             [
              0.5555555555555556,
              "#d8576b"
             ],
             [
              0.6666666666666666,
              "#ed7953"
             ],
             [
              0.7777777777777778,
              "#fb9f3a"
             ],
             [
              0.8888888888888888,
              "#fdca26"
             ],
             [
              1,
              "#f0f921"
             ]
            ],
            "type": "histogram2d"
           }
          ],
          "histogram2dcontour": [
           {
            "colorbar": {
             "outlinewidth": 0,
             "ticks": ""
            },
            "colorscale": [
             [
              0,
              "#0d0887"
             ],
             [
              0.1111111111111111,
              "#46039f"
             ],
             [
              0.2222222222222222,
              "#7201a8"
             ],
             [
              0.3333333333333333,
              "#9c179e"
             ],
             [
              0.4444444444444444,
              "#bd3786"
             ],
             [
              0.5555555555555556,
              "#d8576b"
             ],
             [
              0.6666666666666666,
              "#ed7953"
             ],
             [
              0.7777777777777778,
              "#fb9f3a"
             ],
             [
              0.8888888888888888,
              "#fdca26"
             ],
             [
              1,
              "#f0f921"
             ]
            ],
            "type": "histogram2dcontour"
           }
          ],
          "mesh3d": [
           {
            "colorbar": {
             "outlinewidth": 0,
             "ticks": ""
            },
            "type": "mesh3d"
           }
          ],
          "parcoords": [
           {
            "line": {
             "colorbar": {
              "outlinewidth": 0,
              "ticks": ""
             }
            },
            "type": "parcoords"
           }
          ],
          "scatter": [
           {
            "marker": {
             "colorbar": {
              "outlinewidth": 0,
              "ticks": ""
             }
            },
            "type": "scatter"
           }
          ],
          "scatter3d": [
           {
            "line": {
             "colorbar": {
              "outlinewidth": 0,
              "ticks": ""
             }
            },
            "marker": {
             "colorbar": {
              "outlinewidth": 0,
              "ticks": ""
             }
            },
            "type": "scatter3d"
           }
          ],
          "scattercarpet": [
           {
            "marker": {
             "colorbar": {
              "outlinewidth": 0,
              "ticks": ""
             }
            },
            "type": "scattercarpet"
           }
          ],
          "scattergeo": [
           {
            "marker": {
             "colorbar": {
              "outlinewidth": 0,
              "ticks": ""
             }
            },
            "type": "scattergeo"
           }
          ],
          "scattergl": [
           {
            "marker": {
             "colorbar": {
              "outlinewidth": 0,
              "ticks": ""
             }
            },
            "type": "scattergl"
           }
          ],
          "scattermapbox": [
           {
            "marker": {
             "colorbar": {
              "outlinewidth": 0,
              "ticks": ""
             }
            },
            "type": "scattermapbox"
           }
          ],
          "scatterpolar": [
           {
            "marker": {
             "colorbar": {
              "outlinewidth": 0,
              "ticks": ""
             }
            },
            "type": "scatterpolar"
           }
          ],
          "scatterpolargl": [
           {
            "marker": {
             "colorbar": {
              "outlinewidth": 0,
              "ticks": ""
             }
            },
            "type": "scatterpolargl"
           }
          ],
          "scatterternary": [
           {
            "marker": {
             "colorbar": {
              "outlinewidth": 0,
              "ticks": ""
             }
            },
            "type": "scatterternary"
           }
          ],
          "surface": [
           {
            "colorbar": {
             "outlinewidth": 0,
             "ticks": ""
            },
            "colorscale": [
             [
              0,
              "#0d0887"
             ],
             [
              0.1111111111111111,
              "#46039f"
             ],
             [
              0.2222222222222222,
              "#7201a8"
             ],
             [
              0.3333333333333333,
              "#9c179e"
             ],
             [
              0.4444444444444444,
              "#bd3786"
             ],
             [
              0.5555555555555556,
              "#d8576b"
             ],
             [
              0.6666666666666666,
              "#ed7953"
             ],
             [
              0.7777777777777778,
              "#fb9f3a"
             ],
             [
              0.8888888888888888,
              "#fdca26"
             ],
             [
              1,
              "#f0f921"
             ]
            ],
            "type": "surface"
           }
          ],
          "table": [
           {
            "cells": {
             "fill": {
              "color": "#EBF0F8"
             },
             "line": {
              "color": "white"
             }
            },
            "header": {
             "fill": {
              "color": "#C8D4E3"
             },
             "line": {
              "color": "white"
             }
            },
            "type": "table"
           }
          ]
         },
         "layout": {
          "annotationdefaults": {
           "arrowcolor": "#2a3f5f",
           "arrowhead": 0,
           "arrowwidth": 1
          },
          "colorscale": {
           "diverging": [
            [
             0,
             "#8e0152"
            ],
            [
             0.1,
             "#c51b7d"
            ],
            [
             0.2,
             "#de77ae"
            ],
            [
             0.3,
             "#f1b6da"
            ],
            [
             0.4,
             "#fde0ef"
            ],
            [
             0.5,
             "#f7f7f7"
            ],
            [
             0.6,
             "#e6f5d0"
            ],
            [
             0.7,
             "#b8e186"
            ],
            [
             0.8,
             "#7fbc41"
            ],
            [
             0.9,
             "#4d9221"
            ],
            [
             1,
             "#276419"
            ]
           ],
           "sequential": [
            [
             0,
             "#0d0887"
            ],
            [
             0.1111111111111111,
             "#46039f"
            ],
            [
             0.2222222222222222,
             "#7201a8"
            ],
            [
             0.3333333333333333,
             "#9c179e"
            ],
            [
             0.4444444444444444,
             "#bd3786"
            ],
            [
             0.5555555555555556,
             "#d8576b"
            ],
            [
             0.6666666666666666,
             "#ed7953"
            ],
            [
             0.7777777777777778,
             "#fb9f3a"
            ],
            [
             0.8888888888888888,
             "#fdca26"
            ],
            [
             1,
             "#f0f921"
            ]
           ],
           "sequentialminus": [
            [
             0,
             "#0d0887"
            ],
            [
             0.1111111111111111,
             "#46039f"
            ],
            [
             0.2222222222222222,
             "#7201a8"
            ],
            [
             0.3333333333333333,
             "#9c179e"
            ],
            [
             0.4444444444444444,
             "#bd3786"
            ],
            [
             0.5555555555555556,
             "#d8576b"
            ],
            [
             0.6666666666666666,
             "#ed7953"
            ],
            [
             0.7777777777777778,
             "#fb9f3a"
            ],
            [
             0.8888888888888888,
             "#fdca26"
            ],
            [
             1,
             "#f0f921"
            ]
           ]
          },
          "colorway": [
           "#636efa",
           "#EF553B",
           "#00cc96",
           "#ab63fa",
           "#FFA15A",
           "#19d3f3",
           "#FF6692",
           "#B6E880",
           "#FF97FF",
           "#FECB52"
          ],
          "font": {
           "color": "#2a3f5f"
          },
          "geo": {
           "bgcolor": "white",
           "lakecolor": "white",
           "landcolor": "#E5ECF6",
           "showlakes": true,
           "showland": true,
           "subunitcolor": "white"
          },
          "hoverlabel": {
           "align": "left"
          },
          "hovermode": "closest",
          "mapbox": {
           "style": "light"
          },
          "paper_bgcolor": "white",
          "plot_bgcolor": "#E5ECF6",
          "polar": {
           "angularaxis": {
            "gridcolor": "white",
            "linecolor": "white",
            "ticks": ""
           },
           "bgcolor": "#E5ECF6",
           "radialaxis": {
            "gridcolor": "white",
            "linecolor": "white",
            "ticks": ""
           }
          },
          "scene": {
           "xaxis": {
            "backgroundcolor": "#E5ECF6",
            "gridcolor": "white",
            "gridwidth": 2,
            "linecolor": "white",
            "showbackground": true,
            "ticks": "",
            "zerolinecolor": "white"
           },
           "yaxis": {
            "backgroundcolor": "#E5ECF6",
            "gridcolor": "white",
            "gridwidth": 2,
            "linecolor": "white",
            "showbackground": true,
            "ticks": "",
            "zerolinecolor": "white"
           },
           "zaxis": {
            "backgroundcolor": "#E5ECF6",
            "gridcolor": "white",
            "gridwidth": 2,
            "linecolor": "white",
            "showbackground": true,
            "ticks": "",
            "zerolinecolor": "white"
           }
          },
          "shapedefaults": {
           "line": {
            "color": "#2a3f5f"
           }
          },
          "ternary": {
           "aaxis": {
            "gridcolor": "white",
            "linecolor": "white",
            "ticks": ""
           },
           "baxis": {
            "gridcolor": "white",
            "linecolor": "white",
            "ticks": ""
           },
           "bgcolor": "#E5ECF6",
           "caxis": {
            "gridcolor": "white",
            "linecolor": "white",
            "ticks": ""
           }
          },
          "title": {
           "x": 0.05
          },
          "xaxis": {
           "automargin": true,
           "gridcolor": "white",
           "linecolor": "white",
           "ticks": "",
           "zerolinecolor": "white",
           "zerolinewidth": 2
          },
          "yaxis": {
           "automargin": true,
           "gridcolor": "white",
           "linecolor": "white",
           "ticks": "",
           "zerolinecolor": "white",
           "zerolinewidth": 2
          }
         }
        },
        "title": {
         "text": "International football games played in each country"
        }
       }
      },
      "text/html": [
       "<div>\n",
       "        \n",
       "        \n",
       "            <div id=\"96f9e16c-23d4-4dd1-a79b-b3ea187c6a51\" class=\"plotly-graph-div\" style=\"height:525px; width:100%;\"></div>\n",
       "            <script type=\"text/javascript\">\n",
       "                require([\"plotly\"], function(Plotly) {\n",
       "                    window.PLOTLYENV=window.PLOTLYENV || {};\n",
       "                    \n",
       "                if (document.getElementById(\"96f9e16c-23d4-4dd1-a79b-b3ea187c6a51\")) {\n",
       "                    Plotly.newPlot(\n",
       "                        '96f9e16c-23d4-4dd1-a79b-b3ea187c6a51',\n",
       "                        [{\"colorbar\": {\"title\": {\"text\": \"Number of Games\"}}, \"colorscale\": [[0.0, \"rgb(255,245,240)\"], [0.125, \"rgb(254,224,210)\"], [0.25, \"rgb(252,187,161)\"], [0.375, \"rgb(252,146,114)\"], [0.5, \"rgb(251,106,74)\"], [0.625, \"rgb(239,59,44)\"], [0.75, \"rgb(203,24,29)\"], [0.875, \"rgb(165,15,21)\"], [1.0, \"rgb(103,0,13)\"]], \"locationmode\": \"country names\", \"locations\": [\"United States\", \"France\", \"England\", \"Malaysia\", \"Sweden\", \"Germany\", \"Brazil\", \"Spain\", \"Thailand\", \"Italy\", \"Switzerland\", \"Austria\", \"United Arab Emirates\", \"South Africa\", \"Qatar\", \"South Korea\", \"Argentina\", \"Hungary\", \"Chile\", \"Egypt\", \"Belgium\", \"Mexico\", \"Netherlands\", \"Scotland\", \"Norway\", \"Uruguay\", \"Poland\", \"Denmark\", \"Trinidad and Tobago\", \"Singapore\", \"Saudi Arabia\", \"Portugal\", \"Kuwait\", \"Tunisia\", \"Kenya\", \"Japan\", \"Finland\", \"Republic of Ireland\", \"Wales\", \"Uganda\", \"China PR\", \"Morocco\", \"Peru\", \"Turkey\", \"Tanzania\", \"Australia\", \"Romania\", \"Indonesia\", \"Malawi\", \"Greece\", \"Jamaica\", \"Costa Rica\", \"Cyprus\", \"Ethiopia\", \"Bulgaria\", \"Iran\", \"India\", \"Oman\", \"Malta\", \"Ghana\", \"Northern Ireland\", \"Zambia\", \"Jordan\", \"Bahrain\", \"Honduras\", \"Gabon\", \"Israel\", \"Ivory Coast\", \"Luxembourg\", \"Paraguay\", \"Yugoslavia\", \"Estonia\", \"Russia\", \"Hong Kong\", \"Ecuador\", \"Nigeria\", \"Senegal\", \"Algeria\", \"Haiti\", \"Mali\", \"Czechoslovakia\", \"Bolivia\", \"Iceland\", \"Colombia\", \"Guatemala\", \"Panama\", \"El Salvador\", \"Zimbabwe\", \"Venezuela\", \"Cameroon\", \"Congo\", \"Soviet Union\", \"Libya\", \"Latvia\", \"Albania\", \"Lebanon\", \"Burkina Faso\", \"Sudan\", \"Rwanda\", \"Angola\", \"Barbados\", \"Iraq\", \"Martinique\", \"New Zealand\", \"Fiji\", \"Lithuania\", \"Togo\", \"Botswana\", \"Mozambique\", \"Suriname\", \"Liberia\", \"Ukraine\", \"Guinea\", \"German DR\", \"Canada\", \"Croatia\", \"Vietnam\", \"Slovakia\", \"New Caledonia\", \"Georgia\", \"Gambia\", \"Sierra Leone\", \"Czech Republic\", \"Eswatini\", \"Bangladesh\", \"Saint Kitts and Nevis\", \"Slovenia\", \"North Macedonia\", \"Namibia\", \"Azerbaijan\", \"Equatorial Guinea\", \"Syria\", \"Uzbekistan\", \"Faroe Islands\", \"Benin\", \"Antigua and Barbuda\", \"Lesotho\", \"Grenada\", \"Guyana\", \"Nepal\", \"Malaya\", \"Madagascar\", \"Liechtenstein\", \"Mauritania\", \"Guadeloupe\", \"Belarus\", \"Saint Lucia\", \"Armenia\", \"Mauritius\", \"Bosnia and Herzegovina\", \"Philippines\", \"Bermuda\", \"Kazakhstan\", \"Niger\", \"Moldova\", \"San Marino\", \"DR Congo\", \"Burma\", \"Cambodia\", \"French Polynesia\", \"Cuba\", \"Cape Verde\", \"Netherlands Antilles\", \"Maldives\", \"Samoa\", \"Vietnam Republic\", \"Jersey\", \"Solomon Islands\", \"Pakistan\", \"Guinea-Bissau\", \"Andorra\", \"Dominica\", \"Saint Vincent and the Grenadines\", \"Sri Lanka\", \"Papua New Guinea\", \"Za\\u00efre\", \"Vanuatu\", \"Yemen\", \"Cura\\u00e7ao\", \"French Guiana\", \"Puerto Rico\", \"North Korea\", \"Cayman Islands\", \"Montenegro\", \"Aruba\", \"Dominican Republic\", \"Macau\", \"Laos\", \"Chinese Taipei\", \"R\\u00e9union\", \"Tajikistan\", \"Serbia\", \"Burundi\", \"Guernsey\", \"Chad\", \"Seychelles\", \"Guam\", \"Northern Cyprus\", \"Zanzibar\", \"Turkmenistan\", \"Kyrgyzstan\", \"Gibraltar\", \"Central African Republic\", \"British Virgin Islands\", \"Netherlands Guyana\", \"British Guyana\", \"Tanganyika\", \"Western Samoa\", \"Nicaragua\", \"Isle of Man\", \"Upper Volta\", \"Djibouti\", \"Belize\", \"S\\u00e3o Tom\\u00e9 and Pr\\u00edncipe\", \"Somalia\", \"Palestine\", \"Eritrea\", \"Dahomey\", \"Comoros\", \"U.S. Virgin Islands\", \"Northern Rhodesia\", \"Bhutan\", \"Mongolia\", \"Tonga\", \"Bahamas\", \"Anguilla\", \"Kosovo\", \"Southern Rhodesia\", \"Saint Martin\", \"Serbia and Montenegro\", \"United Arab Republic\", \"Sint Maarten\", \"Cook Islands\", \"Brunei\", \"Irish Free State\", \"South Sudan\", \"Afghanistan\", \"Ceylon\", \"\\u00c9ire\", \"Vietnam DR\", \"Saarland\", \"Gold Coast\", \"Rhodesia\", \"Yemen AR\", \"Manchuria\", \"Monaco\", \"Myanmar\", \"Montserrat\", \"East Timor\", \"Nyasaland\", \"French Somaliland\", \"Northern Mariana Islands\", \"Bohemia\", \"Palau\", \"New Hebrides\", \"Yemen DPR\", \"Greenland\", \"Tahiti\", \"Turks and Caicos Islands\", \"Mayotte\", \"Belgian Congo\", \"Bohemia and Moravia\", \"Portuguese Guinea\", \"Lautoka\", \"Micronesia\", \"Mali Federation\"], \"type\": \"choropleth\", \"z\": [1151, 803, 689, 645, 638, 582, 529, 518, 483, 480, 478, 476, 475, 470, 468, 453, 449, 432, 405, 400, 396, 392, 390, 387, 386, 374, 373, 371, 369, 368, 368, 355, 355, 353, 350, 344, 327, 326, 326, 307, 304, 301, 297, 296, 294, 294, 288, 286, 284, 284, 276, 269, 267, 261, 261, 255, 253, 252, 251, 247, 245, 241, 238, 236, 230, 224, 223, 221, 220, 218, 217, 214, 210, 210, 207, 206, 202, 199, 198, 198, 194, 193, 192, 188, 185, 182, 180, 170, 170, 164, 164, 164, 163, 162, 160, 158, 158, 157, 157, 153, 146, 146, 143, 139, 139, 136, 136, 135, 134, 131, 131, 130, 130, 129, 128, 125, 125, 124, 123, 123, 122, 121, 119, 114, 109, 109, 108, 108, 108, 106, 105, 104, 104, 102, 102, 101, 99, 98, 98, 95, 95, 94, 89, 88, 88, 88, 86, 86, 86, 83, 83, 82, 81, 81, 80, 79, 79, 79, 78, 77, 76, 76, 73, 73, 72, 72, 68, 66, 66, 64, 62, 61, 60, 59, 59, 59, 58, 58, 57, 55, 54, 54, 52, 51, 50, 49, 48, 48, 48, 47, 46, 46, 43, 41, 40, 40, 40, 35, 34, 33, 32, 31, 31, 29, 29, 28, 28, 27, 26, 24, 22, 21, 19, 17, 17, 16, 16, 16, 15, 15, 15, 14, 13, 12, 12, 12, 12, 11, 11, 11, 11, 10, 10, 9, 9, 9, 8, 8, 7, 7, 6, 6, 6, 5, 5, 5, 5, 5, 4, 4, 4, 3, 3, 3, 3, 2, 2, 2, 2, 2, 1, 1, 1, 1, 1, 1]}],\n",
       "                        {\"template\": {\"data\": {\"bar\": [{\"error_x\": {\"color\": \"#2a3f5f\"}, \"error_y\": {\"color\": \"#2a3f5f\"}, \"marker\": {\"line\": {\"color\": \"#E5ECF6\", \"width\": 0.5}}, \"type\": \"bar\"}], \"barpolar\": [{\"marker\": {\"line\": {\"color\": \"#E5ECF6\", \"width\": 0.5}}, \"type\": \"barpolar\"}], \"carpet\": [{\"aaxis\": {\"endlinecolor\": \"#2a3f5f\", \"gridcolor\": \"white\", \"linecolor\": \"white\", \"minorgridcolor\": \"white\", \"startlinecolor\": \"#2a3f5f\"}, \"baxis\": {\"endlinecolor\": \"#2a3f5f\", \"gridcolor\": \"white\", \"linecolor\": \"white\", \"minorgridcolor\": \"white\", \"startlinecolor\": \"#2a3f5f\"}, \"type\": \"carpet\"}], \"choropleth\": [{\"colorbar\": {\"outlinewidth\": 0, \"ticks\": \"\"}, \"type\": \"choropleth\"}], \"contour\": [{\"colorbar\": {\"outlinewidth\": 0, \"ticks\": \"\"}, \"colorscale\": [[0.0, \"#0d0887\"], [0.1111111111111111, \"#46039f\"], [0.2222222222222222, \"#7201a8\"], [0.3333333333333333, \"#9c179e\"], [0.4444444444444444, \"#bd3786\"], [0.5555555555555556, \"#d8576b\"], [0.6666666666666666, \"#ed7953\"], [0.7777777777777778, \"#fb9f3a\"], [0.8888888888888888, \"#fdca26\"], [1.0, \"#f0f921\"]], \"type\": \"contour\"}], \"contourcarpet\": [{\"colorbar\": {\"outlinewidth\": 0, \"ticks\": \"\"}, \"type\": \"contourcarpet\"}], \"heatmap\": [{\"colorbar\": {\"outlinewidth\": 0, \"ticks\": \"\"}, \"colorscale\": [[0.0, \"#0d0887\"], [0.1111111111111111, \"#46039f\"], [0.2222222222222222, \"#7201a8\"], [0.3333333333333333, \"#9c179e\"], [0.4444444444444444, \"#bd3786\"], [0.5555555555555556, \"#d8576b\"], [0.6666666666666666, \"#ed7953\"], [0.7777777777777778, \"#fb9f3a\"], [0.8888888888888888, \"#fdca26\"], [1.0, \"#f0f921\"]], \"type\": \"heatmap\"}], \"heatmapgl\": [{\"colorbar\": {\"outlinewidth\": 0, \"ticks\": \"\"}, \"colorscale\": [[0.0, \"#0d0887\"], [0.1111111111111111, \"#46039f\"], [0.2222222222222222, \"#7201a8\"], [0.3333333333333333, \"#9c179e\"], [0.4444444444444444, \"#bd3786\"], [0.5555555555555556, \"#d8576b\"], [0.6666666666666666, \"#ed7953\"], [0.7777777777777778, \"#fb9f3a\"], [0.8888888888888888, \"#fdca26\"], [1.0, \"#f0f921\"]], \"type\": \"heatmapgl\"}], \"histogram\": [{\"marker\": {\"colorbar\": {\"outlinewidth\": 0, \"ticks\": \"\"}}, \"type\": \"histogram\"}], \"histogram2d\": [{\"colorbar\": {\"outlinewidth\": 0, \"ticks\": \"\"}, \"colorscale\": [[0.0, \"#0d0887\"], [0.1111111111111111, \"#46039f\"], [0.2222222222222222, \"#7201a8\"], [0.3333333333333333, \"#9c179e\"], [0.4444444444444444, \"#bd3786\"], [0.5555555555555556, \"#d8576b\"], [0.6666666666666666, \"#ed7953\"], [0.7777777777777778, \"#fb9f3a\"], [0.8888888888888888, \"#fdca26\"], [1.0, \"#f0f921\"]], \"type\": \"histogram2d\"}], \"histogram2dcontour\": [{\"colorbar\": {\"outlinewidth\": 0, \"ticks\": \"\"}, \"colorscale\": [[0.0, \"#0d0887\"], [0.1111111111111111, \"#46039f\"], [0.2222222222222222, \"#7201a8\"], [0.3333333333333333, \"#9c179e\"], [0.4444444444444444, \"#bd3786\"], [0.5555555555555556, \"#d8576b\"], [0.6666666666666666, \"#ed7953\"], [0.7777777777777778, \"#fb9f3a\"], [0.8888888888888888, \"#fdca26\"], [1.0, \"#f0f921\"]], \"type\": \"histogram2dcontour\"}], \"mesh3d\": [{\"colorbar\": {\"outlinewidth\": 0, \"ticks\": \"\"}, \"type\": \"mesh3d\"}], \"parcoords\": [{\"line\": {\"colorbar\": {\"outlinewidth\": 0, \"ticks\": \"\"}}, \"type\": \"parcoords\"}], \"scatter\": [{\"marker\": {\"colorbar\": {\"outlinewidth\": 0, \"ticks\": \"\"}}, \"type\": \"scatter\"}], \"scatter3d\": [{\"line\": {\"colorbar\": {\"outlinewidth\": 0, \"ticks\": \"\"}}, \"marker\": {\"colorbar\": {\"outlinewidth\": 0, \"ticks\": \"\"}}, \"type\": \"scatter3d\"}], \"scattercarpet\": [{\"marker\": {\"colorbar\": {\"outlinewidth\": 0, \"ticks\": \"\"}}, \"type\": \"scattercarpet\"}], \"scattergeo\": [{\"marker\": {\"colorbar\": {\"outlinewidth\": 0, \"ticks\": \"\"}}, \"type\": \"scattergeo\"}], \"scattergl\": [{\"marker\": {\"colorbar\": {\"outlinewidth\": 0, \"ticks\": \"\"}}, \"type\": \"scattergl\"}], \"scattermapbox\": [{\"marker\": {\"colorbar\": {\"outlinewidth\": 0, \"ticks\": \"\"}}, \"type\": \"scattermapbox\"}], \"scatterpolar\": [{\"marker\": {\"colorbar\": {\"outlinewidth\": 0, \"ticks\": \"\"}}, \"type\": \"scatterpolar\"}], \"scatterpolargl\": [{\"marker\": {\"colorbar\": {\"outlinewidth\": 0, \"ticks\": \"\"}}, \"type\": \"scatterpolargl\"}], \"scatterternary\": [{\"marker\": {\"colorbar\": {\"outlinewidth\": 0, \"ticks\": \"\"}}, \"type\": \"scatterternary\"}], \"surface\": [{\"colorbar\": {\"outlinewidth\": 0, \"ticks\": \"\"}, \"colorscale\": [[0.0, \"#0d0887\"], [0.1111111111111111, \"#46039f\"], [0.2222222222222222, \"#7201a8\"], [0.3333333333333333, \"#9c179e\"], [0.4444444444444444, \"#bd3786\"], [0.5555555555555556, \"#d8576b\"], [0.6666666666666666, \"#ed7953\"], [0.7777777777777778, \"#fb9f3a\"], [0.8888888888888888, \"#fdca26\"], [1.0, \"#f0f921\"]], \"type\": \"surface\"}], \"table\": [{\"cells\": {\"fill\": {\"color\": \"#EBF0F8\"}, \"line\": {\"color\": \"white\"}}, \"header\": {\"fill\": {\"color\": \"#C8D4E3\"}, \"line\": {\"color\": \"white\"}}, \"type\": \"table\"}]}, \"layout\": {\"annotationdefaults\": {\"arrowcolor\": \"#2a3f5f\", \"arrowhead\": 0, \"arrowwidth\": 1}, \"colorscale\": {\"diverging\": [[0, \"#8e0152\"], [0.1, \"#c51b7d\"], [0.2, \"#de77ae\"], [0.3, \"#f1b6da\"], [0.4, \"#fde0ef\"], [0.5, \"#f7f7f7\"], [0.6, \"#e6f5d0\"], [0.7, \"#b8e186\"], [0.8, \"#7fbc41\"], [0.9, \"#4d9221\"], [1, \"#276419\"]], \"sequential\": [[0.0, \"#0d0887\"], [0.1111111111111111, \"#46039f\"], [0.2222222222222222, \"#7201a8\"], [0.3333333333333333, \"#9c179e\"], [0.4444444444444444, \"#bd3786\"], [0.5555555555555556, \"#d8576b\"], [0.6666666666666666, \"#ed7953\"], [0.7777777777777778, \"#fb9f3a\"], [0.8888888888888888, \"#fdca26\"], [1.0, \"#f0f921\"]], \"sequentialminus\": [[0.0, \"#0d0887\"], [0.1111111111111111, \"#46039f\"], [0.2222222222222222, \"#7201a8\"], [0.3333333333333333, \"#9c179e\"], [0.4444444444444444, \"#bd3786\"], [0.5555555555555556, \"#d8576b\"], [0.6666666666666666, \"#ed7953\"], [0.7777777777777778, \"#fb9f3a\"], [0.8888888888888888, \"#fdca26\"], [1.0, \"#f0f921\"]]}, \"colorway\": [\"#636efa\", \"#EF553B\", \"#00cc96\", \"#ab63fa\", \"#FFA15A\", \"#19d3f3\", \"#FF6692\", \"#B6E880\", \"#FF97FF\", \"#FECB52\"], \"font\": {\"color\": \"#2a3f5f\"}, \"geo\": {\"bgcolor\": \"white\", \"lakecolor\": \"white\", \"landcolor\": \"#E5ECF6\", \"showlakes\": true, \"showland\": true, \"subunitcolor\": \"white\"}, \"hoverlabel\": {\"align\": \"left\"}, \"hovermode\": \"closest\", \"mapbox\": {\"style\": \"light\"}, \"paper_bgcolor\": \"white\", \"plot_bgcolor\": \"#E5ECF6\", \"polar\": {\"angularaxis\": {\"gridcolor\": \"white\", \"linecolor\": \"white\", \"ticks\": \"\"}, \"bgcolor\": \"#E5ECF6\", \"radialaxis\": {\"gridcolor\": \"white\", \"linecolor\": \"white\", \"ticks\": \"\"}}, \"scene\": {\"xaxis\": {\"backgroundcolor\": \"#E5ECF6\", \"gridcolor\": \"white\", \"gridwidth\": 2, \"linecolor\": \"white\", \"showbackground\": true, \"ticks\": \"\", \"zerolinecolor\": \"white\"}, \"yaxis\": {\"backgroundcolor\": \"#E5ECF6\", \"gridcolor\": \"white\", \"gridwidth\": 2, \"linecolor\": \"white\", \"showbackground\": true, \"ticks\": \"\", \"zerolinecolor\": \"white\"}, \"zaxis\": {\"backgroundcolor\": \"#E5ECF6\", \"gridcolor\": \"white\", \"gridwidth\": 2, \"linecolor\": \"white\", \"showbackground\": true, \"ticks\": \"\", \"zerolinecolor\": \"white\"}}, \"shapedefaults\": {\"line\": {\"color\": \"#2a3f5f\"}}, \"ternary\": {\"aaxis\": {\"gridcolor\": \"white\", \"linecolor\": \"white\", \"ticks\": \"\"}, \"baxis\": {\"gridcolor\": \"white\", \"linecolor\": \"white\", \"ticks\": \"\"}, \"bgcolor\": \"#E5ECF6\", \"caxis\": {\"gridcolor\": \"white\", \"linecolor\": \"white\", \"ticks\": \"\"}}, \"title\": {\"x\": 0.05}, \"xaxis\": {\"automargin\": true, \"gridcolor\": \"white\", \"linecolor\": \"white\", \"ticks\": \"\", \"zerolinecolor\": \"white\", \"zerolinewidth\": 2}, \"yaxis\": {\"automargin\": true, \"gridcolor\": \"white\", \"linecolor\": \"white\", \"ticks\": \"\", \"zerolinecolor\": \"white\", \"zerolinewidth\": 2}}}, \"title\": {\"text\": \"International football games played in each country\"}},\n",
       "                        {\"responsive\": true}\n",
       "                    ).then(function(){\n",
       "                            \n",
       "var gd = document.getElementById('96f9e16c-23d4-4dd1-a79b-b3ea187c6a51');\n",
       "var x = new MutationObserver(function (mutations, observer) {{\n",
       "        var display = window.getComputedStyle(gd).display;\n",
       "        if (!display || display === 'none') {{\n",
       "            console.log([gd, 'removed!']);\n",
       "            Plotly.purge(gd);\n",
       "            observer.disconnect();\n",
       "        }}\n",
       "}});\n",
       "\n",
       "// Listen for the removal of the full notebook cells\n",
       "var notebookContainer = gd.closest('#notebook-container');\n",
       "if (notebookContainer) {{\n",
       "    x.observe(notebookContainer, {childList: true});\n",
       "}}\n",
       "\n",
       "// Listen for the clearing of the current output cell\n",
       "var outputEl = gd.closest('.output');\n",
       "if (outputEl) {{\n",
       "    x.observe(outputEl, {childList: true});\n",
       "}}\n",
       "\n",
       "                        })\n",
       "                };\n",
       "                });\n",
       "            </script>\n",
       "        </div>"
      ]
     },
     "metadata": {},
     "output_type": "display_data"
    }
   ],
   "source": [
    "fig = go.Figure(data=go.Choropleth(\n",
    "    locations=df_num_of_home_games['country'],\n",
    "    z = df_num_of_home_games['num_games'],\n",
    "    locationmode = 'country names',\n",
    "    colorscale = 'Reds',\n",
    "    colorbar_title = 'Number of Games',\n",
    "))\n",
    "\n",
    "fig.update_layout(\n",
    "    title_text = 'International football games played in each country')\n",
    "fig.show()"
   ]
  }
 ],
 "metadata": {
  "kernelspec": {
   "display_name": "Python 3",
   "language": "python",
   "name": "python3"
  },
  "language_info": {
   "codemirror_mode": {
    "name": "ipython",
    "version": 3
   },
   "file_extension": ".py",
   "mimetype": "text/x-python",
   "name": "python",
   "nbconvert_exporter": "python",
   "pygments_lexer": "ipython3",
   "version": "3.7.3"
  }
 },
 "nbformat": 4,
 "nbformat_minor": 2
}
