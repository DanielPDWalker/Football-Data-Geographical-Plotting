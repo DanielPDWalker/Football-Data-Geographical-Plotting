{
 "cells": [
  {
   "cell_type": "markdown",
   "metadata": {},
   "source": [
    "# Football Data Geographical Plotting"
   ]
  },
  {
   "cell_type": "code",
   "execution_count": 1,
   "metadata": {},
   "outputs": [],
   "source": [
    "import pandas as pd\n",
    "import matplotlib.pyplot as plt\n",
    "import seaborn as sns\n",
    "\n",
    "%matplotlib inline\n",
    "\n",
    "import warnings\n",
    "warnings.filterwarnings(\"ignore\")"
   ]
  },
  {
   "cell_type": "code",
   "execution_count": 3,
   "metadata": {},
   "outputs": [
    {
     "data": {
      "text/html": [
       "<div>\n",
       "<style scoped>\n",
       "    .dataframe tbody tr th:only-of-type {\n",
       "        vertical-align: middle;\n",
       "    }\n",
       "\n",
       "    .dataframe tbody tr th {\n",
       "        vertical-align: top;\n",
       "    }\n",
       "\n",
       "    .dataframe thead th {\n",
       "        text-align: right;\n",
       "    }\n",
       "</style>\n",
       "<table border=\"1\" class=\"dataframe\">\n",
       "  <thead>\n",
       "    <tr style=\"text-align: right;\">\n",
       "      <th></th>\n",
       "      <th>date</th>\n",
       "      <th>home_team</th>\n",
       "      <th>away_team</th>\n",
       "      <th>home_score</th>\n",
       "      <th>away_score</th>\n",
       "      <th>tournament</th>\n",
       "      <th>city</th>\n",
       "      <th>country</th>\n",
       "      <th>neutral</th>\n",
       "    </tr>\n",
       "  </thead>\n",
       "  <tbody>\n",
       "    <tr>\n",
       "      <th>40940</th>\n",
       "      <td>2019-09-10</td>\n",
       "      <td>France</td>\n",
       "      <td>Andorra</td>\n",
       "      <td>3</td>\n",
       "      <td>0</td>\n",
       "      <td>UEFA Euro qualification</td>\n",
       "      <td>Paris</td>\n",
       "      <td>France</td>\n",
       "      <td>False</td>\n",
       "    </tr>\n",
       "    <tr>\n",
       "      <th>40941</th>\n",
       "      <td>2019-09-10</td>\n",
       "      <td>Moldova</td>\n",
       "      <td>Turkey</td>\n",
       "      <td>0</td>\n",
       "      <td>4</td>\n",
       "      <td>UEFA Euro qualification</td>\n",
       "      <td>Chișinău</td>\n",
       "      <td>Moldova</td>\n",
       "      <td>False</td>\n",
       "    </tr>\n",
       "    <tr>\n",
       "      <th>40942</th>\n",
       "      <td>2019-09-18</td>\n",
       "      <td>DR Congo</td>\n",
       "      <td>Rwanda</td>\n",
       "      <td>2</td>\n",
       "      <td>3</td>\n",
       "      <td>Friendly</td>\n",
       "      <td>Kinshasa</td>\n",
       "      <td>DR Congo</td>\n",
       "      <td>True</td>\n",
       "    </tr>\n",
       "    <tr>\n",
       "      <th>40943</th>\n",
       "      <td>2019-09-29</td>\n",
       "      <td>Bangladesh</td>\n",
       "      <td>Bhutan</td>\n",
       "      <td>4</td>\n",
       "      <td>1</td>\n",
       "      <td>Friendly</td>\n",
       "      <td>Dhaka</td>\n",
       "      <td>Bangladesh</td>\n",
       "      <td>False</td>\n",
       "    </tr>\n",
       "    <tr>\n",
       "      <th>40944</th>\n",
       "      <td>2019-09-30</td>\n",
       "      <td>Botswana</td>\n",
       "      <td>Liberia</td>\n",
       "      <td>0</td>\n",
       "      <td>0</td>\n",
       "      <td>Friendly</td>\n",
       "      <td>Gaborone</td>\n",
       "      <td>Botswana</td>\n",
       "      <td>False</td>\n",
       "    </tr>\n",
       "  </tbody>\n",
       "</table>\n",
       "</div>"
      ],
      "text/plain": [
       "             date   home_team away_team  home_score  away_score  \\\n",
       "40940  2019-09-10      France   Andorra           3           0   \n",
       "40941  2019-09-10     Moldova    Turkey           0           4   \n",
       "40942  2019-09-18    DR Congo    Rwanda           2           3   \n",
       "40943  2019-09-29  Bangladesh    Bhutan           4           1   \n",
       "40944  2019-09-30    Botswana   Liberia           0           0   \n",
       "\n",
       "                    tournament      city     country  neutral  \n",
       "40940  UEFA Euro qualification     Paris      France    False  \n",
       "40941  UEFA Euro qualification  Chișinău     Moldova    False  \n",
       "40942                 Friendly  Kinshasa    DR Congo     True  \n",
       "40943                 Friendly     Dhaka  Bangladesh    False  \n",
       "40944                 Friendly  Gaborone    Botswana    False  "
      ]
     },
     "execution_count": 3,
     "metadata": {},
     "output_type": "execute_result"
    }
   ],
   "source": [
    "df = pd.read_csv('./data/results.csv', error_bad_lines=False)\n",
    "df.tail()"
   ]
  },
  {
   "cell_type": "code",
   "execution_count": 5,
   "metadata": {},
   "outputs": [
    {
     "data": {
      "text/plain": [
       "date          object\n",
       "home_team     object\n",
       "away_team     object\n",
       "home_score     int64\n",
       "away_score     int64\n",
       "tournament    object\n",
       "city          object\n",
       "country       object\n",
       "neutral         bool\n",
       "dtype: object"
      ]
     },
     "execution_count": 5,
     "metadata": {},
     "output_type": "execute_result"
    }
   ],
   "source": [
    "df.dtypes"
   ]
  },
  {
   "cell_type": "code",
   "execution_count": null,
   "metadata": {},
   "outputs": [],
   "source": []
  }
 ],
 "metadata": {
  "kernelspec": {
   "display_name": "Python 3",
   "language": "python",
   "name": "python3"
  },
  "language_info": {
   "codemirror_mode": {
    "name": "ipython",
    "version": 3
   },
   "file_extension": ".py",
   "mimetype": "text/x-python",
   "name": "python",
   "nbconvert_exporter": "python",
   "pygments_lexer": "ipython3",
   "version": "3.7.3"
  }
 },
 "nbformat": 4,
 "nbformat_minor": 2
}
